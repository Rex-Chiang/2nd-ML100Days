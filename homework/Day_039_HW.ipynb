{
 "cells": [
  {
   "cell_type": "markdown",
   "metadata": {},
   "source": [
    "# D39-1\n",
    "* **清楚了解 L1, L2 的意義與差異為何，並了解 LASSO 與 Ridge 之間的差異與使用情境**\n",
    "* **請閱讀相關文獻，並回答下列問題**\n",
    "\n",
    "[脊回歸 (Ridge Regression)](https://blog.csdn.net/daunxx/article/details/51578787)\n",
    "[Linear, Ridge, Lasso Regression 本質區別](https://www.zhihu.com/question/38121173)"
   ]
  },
  {
   "cell_type": "markdown",
   "metadata": {},
   "source": [
    "1. **LASSO 回歸可以被用來作為 Feature selection 的工具，請了解 LASSO 模型為什麼可用來作 Feature selection**\n",
    " * LASSO的正規化可以強制使得不重要的解釋變數其估計出的係數為0，因此也達到了變數選擇的功能。\n",
    "2. **當自變數 (X) 存在高度共線性時，Ridge Regression 可以處理這樣的問題嗎?**\n",
    " * 當特徵變數個數增加，就有越高的機率存在共線性的變數。而當模型存在共線性時，回歸係數項就會變得非常不穩定(high variance, 高變異)。\n",
    " * 規化回歸模型會對回歸係數大小做出約束，並逐漸將回歸係數壓縮到零，而對回歸係數的限制將有助於降低係數的幅度和波動，並降低模型的變異。\n",
    " * 除非該變數可以使誤差平方和(SSE)降低對應水準，該特徵係數才會上升。"
   ]
  }
 ],
 "metadata": {
  "kernelspec": {
   "display_name": "Python 3",
   "language": "python",
   "name": "python3"
  },
  "language_info": {
   "codemirror_mode": {
    "name": "ipython",
    "version": 3
   },
   "file_extension": ".py",
   "mimetype": "text/x-python",
   "name": "python",
   "nbconvert_exporter": "python",
   "pygments_lexer": "ipython3",
   "version": "3.6.4"
  }
 },
 "nbformat": 4,
 "nbformat_minor": 2
}
