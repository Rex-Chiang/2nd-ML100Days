{
 "cells": [
  {
   "cell_type": "markdown",
   "metadata": {},
   "source": [
    "# D78-1\n",
    "* **請嘗試將 preproc_x 替換成以每筆資料的 min/max 進行標準化至 -1 ~ 1 間，再進行訓練**"
   ]
  },
  {
   "cell_type": "code",
   "execution_count": 1,
   "metadata": {},
   "outputs": [
    {
     "name": "stdout",
     "output_type": "stream",
     "text": [
      "Tue Jul 16 20:11:27 2019       \r\n",
      "+-----------------------------------------------------------------------------+\r\n",
      "| NVIDIA-SMI 384.130                Driver Version: 384.130                   |\r\n",
      "|-------------------------------+----------------------+----------------------+\r\n",
      "| GPU  Name        Persistence-M| Bus-Id        Disp.A | Volatile Uncorr. ECC |\r\n",
      "| Fan  Temp  Perf  Pwr:Usage/Cap|         Memory-Usage | GPU-Util  Compute M. |\r\n",
      "|===============================+======================+======================|\r\n",
      "|   0  GeForce GTX 950M    Off  | 00000000:01:00.0 Off |                  N/A |\r\n",
      "| N/A   48C    P0    N/A /  N/A |    466MiB /  2002MiB |      0%      Default |\r\n",
      "+-------------------------------+----------------------+----------------------+\r\n",
      "                                                                               \r\n",
      "+-----------------------------------------------------------------------------+\r\n",
      "| Processes:                                                       GPU Memory |\r\n",
      "|  GPU       PID   Type   Process name                             Usage      |\r\n",
      "|=============================================================================|\r\n",
      "|    0      1128      G   /usr/lib/xorg/Xorg                           285MiB |\r\n",
      "|    0      2117      G   compiz                                        26MiB |\r\n",
      "|    0      4584      G   ...uest-channel-token=16570608693989383458   152MiB |\r\n",
      "+-----------------------------------------------------------------------------+\r\n"
     ]
    }
   ],
   "source": [
    "!nvidia-smi"
   ]
  },
  {
   "cell_type": "code",
   "execution_count": 23,
   "metadata": {},
   "outputs": [],
   "source": [
    "import os\n",
    "import keras\n",
    "from sklearn.preprocessing import MinMaxScaler\n",
    "\n",
    "# 請嘗試設定 GPU：os.environ\n",
    "os.environ[\"CUDA_VISIBLE_DEVICES\"] = \"GeForce GTX 950M\""
   ]
  },
  {
   "cell_type": "code",
   "execution_count": 24,
   "metadata": {},
   "outputs": [],
   "source": [
    "train, test = keras.datasets.cifar10.load_data()"
   ]
  },
  {
   "cell_type": "code",
   "execution_count": 27,
   "metadata": {},
   "outputs": [],
   "source": [
    "## 資料前處理\n",
    "def preproc_x(x, flatten=True):\n",
    "    x = x / 255\n",
    "    if flatten:\n",
    "        x = x.reshape((len(x), -1))\n",
    "        \n",
    "    MM = MinMaxScaler()\n",
    "    x = MM.fit_transform(x)\n",
    "    return x\n",
    "\n",
    "def preproc_y(y, num_classes=10):\n",
    "    if y.shape[-1] == 1:\n",
    "        y = keras.utils.to_categorical(y, num_classes)\n",
    "    return y "
   ]
  },
  {
   "cell_type": "code",
   "execution_count": 28,
   "metadata": {},
   "outputs": [],
   "source": [
    "x_train, y_train = train\n",
    "x_test, y_test = test\n",
    "\n",
    "# Preproc the inputs\n",
    "x_train = preproc_x(x_train)\n",
    "x_test = preproc_x(x_test)\n",
    "\n",
    "# Preprc the outputs\n",
    "y_train = preproc_y(y_train)\n",
    "y_test = preproc_y(y_test)"
   ]
  },
  {
   "cell_type": "code",
   "execution_count": 31,
   "metadata": {},
   "outputs": [
    {
     "name": "stderr",
     "output_type": "stream",
     "text": [
      "WARNING: Logging before flag parsing goes to stderr.\n",
      "W0716 20:19:16.684058 140415685023488 deprecation_wrapper.py:119] From /home/rex/.local/lib/python3.7/site-packages/keras/backend/tensorflow_backend.py:74: The name tf.get_default_graph is deprecated. Please use tf.compat.v1.get_default_graph instead.\n",
      "\n",
      "W0716 20:19:16.947276 140415685023488 deprecation_wrapper.py:119] From /home/rex/.local/lib/python3.7/site-packages/keras/backend/tensorflow_backend.py:517: The name tf.placeholder is deprecated. Please use tf.compat.v1.placeholder instead.\n",
      "\n",
      "W0716 20:19:17.113875 140415685023488 deprecation_wrapper.py:119] From /home/rex/.local/lib/python3.7/site-packages/keras/backend/tensorflow_backend.py:4138: The name tf.random_uniform is deprecated. Please use tf.random.uniform instead.\n",
      "\n"
     ]
    },
    {
     "name": "stdout",
     "output_type": "stream",
     "text": [
      "_________________________________________________________________\n",
      "Layer (type)                 Output Shape              Param #   \n",
      "=================================================================\n",
      "input_1 (InputLayer)         (None, 3072)              0         \n",
      "_________________________________________________________________\n",
      "hidden_layer1 (Dense)        (None, 512)               1573376   \n",
      "_________________________________________________________________\n",
      "hidden_layer2 (Dense)        (None, 256)               131328    \n",
      "_________________________________________________________________\n",
      "hidden_layer3 (Dense)        (None, 128)               32896     \n",
      "_________________________________________________________________\n",
      "output (Dense)               (None, 10)                1290      \n",
      "=================================================================\n",
      "Total params: 1,738,890\n",
      "Trainable params: 1,738,890\n",
      "Non-trainable params: 0\n",
      "_________________________________________________________________\n"
     ]
    }
   ],
   "source": [
    "def build_mlp(input_shape, output_units=10, num_neurons=[512, 256, 128]):\n",
    "    input_layer = keras.layers.Input(input_shape)\n",
    "    \n",
    "    for i, n_units in enumerate(num_neurons):\n",
    "        if i == 0:\n",
    "            x = keras.layers.Dense(units=n_units, activation=\"relu\", name=\"hidden_layer\"+str(i+1))(input_layer)\n",
    "        else:\n",
    "            x = keras.layers.Dense(units=n_units, activation=\"relu\", name=\"hidden_layer\"+str(i+1))(x)\n",
    "    \n",
    "    out = keras.layers.Dense(units=output_units, activation=\"softmax\", name=\"output\")(x)\n",
    "    \n",
    "    model = keras.models.Model(inputs=[input_layer], outputs=[out])\n",
    "    return model\n",
    "\n",
    "model = build_mlp(input_shape=x_train.shape[1:])\n",
    "\n",
    "model.summary()"
   ]
  },
  {
   "cell_type": "code",
   "execution_count": 32,
   "metadata": {},
   "outputs": [],
   "source": [
    "## 超參數設定\n",
    "LEARNING_RATE = 0.001\n",
    "EPOCHS = 100\n",
    "BATCH_SIZE = 256"
   ]
  },
  {
   "cell_type": "code",
   "execution_count": 33,
   "metadata": {},
   "outputs": [
    {
     "name": "stderr",
     "output_type": "stream",
     "text": [
      "W0716 20:19:28.555568 140415685023488 deprecation_wrapper.py:119] From /home/rex/.local/lib/python3.7/site-packages/keras/optimizers.py:790: The name tf.train.Optimizer is deprecated. Please use tf.compat.v1.train.Optimizer instead.\n",
      "\n",
      "W0716 20:19:28.582500 140415685023488 deprecation_wrapper.py:119] From /home/rex/.local/lib/python3.7/site-packages/keras/backend/tensorflow_backend.py:3295: The name tf.log is deprecated. Please use tf.math.log instead.\n",
      "\n"
     ]
    }
   ],
   "source": [
    "optimizer = keras.optimizers.Adam(lr=LEARNING_RATE)\n",
    "model.compile(loss=\"categorical_crossentropy\", metrics=[\"accuracy\"], optimizer=optimizer)"
   ]
  },
  {
   "cell_type": "code",
   "execution_count": 34,
   "metadata": {},
   "outputs": [
    {
     "name": "stderr",
     "output_type": "stream",
     "text": [
      "W0716 20:19:31.255907 140415685023488 deprecation.py:323] From /home/rex/.local/lib/python3.7/site-packages/tensorflow/python/ops/math_grad.py:1250: add_dispatch_support.<locals>.wrapper (from tensorflow.python.ops.array_ops) is deprecated and will be removed in a future version.\n",
      "Instructions for updating:\n",
      "Use tf.where in 2.0, which has the same broadcast rule as np.where\n",
      "W0716 20:19:31.300388 140415685023488 deprecation_wrapper.py:119] From /home/rex/.local/lib/python3.7/site-packages/keras/backend/tensorflow_backend.py:986: The name tf.assign_add is deprecated. Please use tf.compat.v1.assign_add instead.\n",
      "\n"
     ]
    },
    {
     "name": "stdout",
     "output_type": "stream",
     "text": [
      "Train on 50000 samples, validate on 10000 samples\n",
      "Epoch 1/100\n",
      "50000/50000 [==============================] - 7s 149us/step - loss: 1.9333 - acc: 0.3027 - val_loss: 1.8524 - val_acc: 0.3428\n",
      "Epoch 2/100\n",
      "50000/50000 [==============================] - 6s 117us/step - loss: 1.7209 - acc: 0.3823 - val_loss: 1.6992 - val_acc: 0.4033\n",
      "Epoch 3/100\n",
      "50000/50000 [==============================] - 6s 112us/step - loss: 1.6310 - acc: 0.4191 - val_loss: 1.5775 - val_acc: 0.4374\n",
      "Epoch 4/100\n",
      "50000/50000 [==============================] - 6s 112us/step - loss: 1.5478 - acc: 0.4474 - val_loss: 1.5489 - val_acc: 0.4488\n",
      "Epoch 5/100\n",
      "50000/50000 [==============================] - 6s 113us/step - loss: 1.5095 - acc: 0.4617 - val_loss: 1.5202 - val_acc: 0.4563\n",
      "Epoch 6/100\n",
      "50000/50000 [==============================] - 6s 115us/step - loss: 1.4808 - acc: 0.4712 - val_loss: 1.5168 - val_acc: 0.4579\n",
      "Epoch 7/100\n",
      "50000/50000 [==============================] - 6s 117us/step - loss: 1.4322 - acc: 0.4909 - val_loss: 1.4782 - val_acc: 0.4750\n",
      "Epoch 8/100\n",
      "50000/50000 [==============================] - 6s 115us/step - loss: 1.4172 - acc: 0.4970 - val_loss: 1.4521 - val_acc: 0.4837\n",
      "Epoch 9/100\n",
      "50000/50000 [==============================] - 6s 114us/step - loss: 1.3788 - acc: 0.5097 - val_loss: 1.4369 - val_acc: 0.4897\n",
      "Epoch 10/100\n",
      "50000/50000 [==============================] - 6s 114us/step - loss: 1.3594 - acc: 0.5172 - val_loss: 1.4638 - val_acc: 0.4884\n",
      "Epoch 11/100\n",
      "50000/50000 [==============================] - 6s 116us/step - loss: 1.3285 - acc: 0.5258 - val_loss: 1.3980 - val_acc: 0.5035\n",
      "Epoch 12/100\n",
      "50000/50000 [==============================] - 6s 116us/step - loss: 1.3020 - acc: 0.5385 - val_loss: 1.4090 - val_acc: 0.5016\n",
      "Epoch 13/100\n",
      "50000/50000 [==============================] - 6s 116us/step - loss: 1.2886 - acc: 0.5410 - val_loss: 1.3969 - val_acc: 0.5044\n",
      "Epoch 14/100\n",
      "50000/50000 [==============================] - 6s 118us/step - loss: 1.2630 - acc: 0.5495 - val_loss: 1.4032 - val_acc: 0.5077\n",
      "Epoch 15/100\n",
      "50000/50000 [==============================] - 6s 121us/step - loss: 1.2377 - acc: 0.5578 - val_loss: 1.3866 - val_acc: 0.5143\n",
      "Epoch 16/100\n",
      "50000/50000 [==============================] - 6s 121us/step - loss: 1.2155 - acc: 0.5670 - val_loss: 1.3805 - val_acc: 0.5173\n",
      "Epoch 17/100\n",
      "50000/50000 [==============================] - 6s 118us/step - loss: 1.1881 - acc: 0.5764 - val_loss: 1.3658 - val_acc: 0.5226\n",
      "Epoch 18/100\n",
      "50000/50000 [==============================] - 6s 119us/step - loss: 1.1693 - acc: 0.5818 - val_loss: 1.3632 - val_acc: 0.5271\n",
      "Epoch 19/100\n",
      "50000/50000 [==============================] - 6s 116us/step - loss: 1.1495 - acc: 0.5906 - val_loss: 1.3672 - val_acc: 0.5239\n",
      "Epoch 20/100\n",
      "50000/50000 [==============================] - 6s 125us/step - loss: 1.1308 - acc: 0.5983 - val_loss: 1.3996 - val_acc: 0.5082\n",
      "Epoch 21/100\n",
      "50000/50000 [==============================] - 6s 118us/step - loss: 1.1195 - acc: 0.6007 - val_loss: 1.3842 - val_acc: 0.5198\n",
      "Epoch 22/100\n",
      "50000/50000 [==============================] - 6s 116us/step - loss: 1.0912 - acc: 0.6109 - val_loss: 1.3932 - val_acc: 0.5192\n",
      "Epoch 23/100\n",
      "50000/50000 [==============================] - 6s 118us/step - loss: 1.0702 - acc: 0.6175 - val_loss: 1.3932 - val_acc: 0.5287\n",
      "Epoch 24/100\n",
      "50000/50000 [==============================] - 6s 116us/step - loss: 1.0562 - acc: 0.6252 - val_loss: 1.3900 - val_acc: 0.5269\n",
      "Epoch 25/100\n",
      "50000/50000 [==============================] - 6s 126us/step - loss: 1.0393 - acc: 0.6291 - val_loss: 1.4162 - val_acc: 0.5101\n",
      "Epoch 26/100\n",
      "50000/50000 [==============================] - 6s 118us/step - loss: 1.0189 - acc: 0.6374 - val_loss: 1.3691 - val_acc: 0.5305\n",
      "Epoch 27/100\n",
      "50000/50000 [==============================] - 6s 119us/step - loss: 1.0013 - acc: 0.6419 - val_loss: 1.3642 - val_acc: 0.5356\n",
      "Epoch 28/100\n",
      "50000/50000 [==============================] - 6s 119us/step - loss: 0.9729 - acc: 0.6532 - val_loss: 1.4826 - val_acc: 0.5073\n",
      "Epoch 29/100\n",
      "50000/50000 [==============================] - 6s 117us/step - loss: 0.9772 - acc: 0.6524 - val_loss: 1.4235 - val_acc: 0.5221\n",
      "Epoch 30/100\n",
      "50000/50000 [==============================] - 6s 116us/step - loss: 0.9429 - acc: 0.6619 - val_loss: 1.4296 - val_acc: 0.5328\n",
      "Epoch 31/100\n",
      "50000/50000 [==============================] - 6s 116us/step - loss: 0.9232 - acc: 0.6703 - val_loss: 1.4486 - val_acc: 0.5236\n",
      "Epoch 32/100\n",
      "50000/50000 [==============================] - 6s 126us/step - loss: 0.9077 - acc: 0.6758 - val_loss: 1.4550 - val_acc: 0.5271\n",
      "Epoch 33/100\n",
      "50000/50000 [==============================] - 6s 122us/step - loss: 0.8980 - acc: 0.6805 - val_loss: 1.4740 - val_acc: 0.5198\n",
      "Epoch 34/100\n",
      "50000/50000 [==============================] - 6s 122us/step - loss: 0.8746 - acc: 0.6885 - val_loss: 1.5001 - val_acc: 0.5165\n",
      "Epoch 35/100\n",
      "50000/50000 [==============================] - 6s 120us/step - loss: 0.8574 - acc: 0.6948 - val_loss: 1.4530 - val_acc: 0.5276\n",
      "Epoch 36/100\n",
      "50000/50000 [==============================] - 6s 121us/step - loss: 0.8373 - acc: 0.7027 - val_loss: 1.4990 - val_acc: 0.5312\n",
      "Epoch 37/100\n",
      "50000/50000 [==============================] - 6s 122us/step - loss: 0.8311 - acc: 0.7052 - val_loss: 1.5445 - val_acc: 0.5236\n",
      "Epoch 38/100\n",
      "50000/50000 [==============================] - 6s 121us/step - loss: 0.8092 - acc: 0.7114 - val_loss: 1.5386 - val_acc: 0.5209\n",
      "Epoch 39/100\n",
      "50000/50000 [==============================] - 6s 120us/step - loss: 0.8005 - acc: 0.7120 - val_loss: 1.5627 - val_acc: 0.5220\n",
      "Epoch 40/100\n",
      "50000/50000 [==============================] - 6s 121us/step - loss: 0.7855 - acc: 0.7196 - val_loss: 1.5698 - val_acc: 0.5220\n",
      "Epoch 41/100\n",
      "50000/50000 [==============================] - 6s 121us/step - loss: 0.7668 - acc: 0.7277 - val_loss: 1.6030 - val_acc: 0.5070\n",
      "Epoch 42/100\n",
      "50000/50000 [==============================] - 6s 122us/step - loss: 0.7520 - acc: 0.7290 - val_loss: 1.5945 - val_acc: 0.5217\n",
      "Epoch 43/100\n",
      "50000/50000 [==============================] - 6s 121us/step - loss: 0.7403 - acc: 0.7363 - val_loss: 1.6424 - val_acc: 0.5092\n",
      "Epoch 44/100\n",
      "50000/50000 [==============================] - 6s 121us/step - loss: 0.7265 - acc: 0.7408 - val_loss: 1.6415 - val_acc: 0.5172\n",
      "Epoch 45/100\n",
      "50000/50000 [==============================] - 6s 121us/step - loss: 0.7003 - acc: 0.7511 - val_loss: 1.6819 - val_acc: 0.5186\n",
      "Epoch 46/100\n",
      "50000/50000 [==============================] - 6s 122us/step - loss: 0.6848 - acc: 0.7560 - val_loss: 1.7129 - val_acc: 0.5137\n",
      "Epoch 47/100\n",
      "50000/50000 [==============================] - 6s 122us/step - loss: 0.6852 - acc: 0.7565 - val_loss: 1.7230 - val_acc: 0.5088\n",
      "Epoch 48/100\n",
      "50000/50000 [==============================] - 6s 120us/step - loss: 0.6738 - acc: 0.7569 - val_loss: 1.7215 - val_acc: 0.5204\n",
      "Epoch 49/100\n",
      "50000/50000 [==============================] - 6s 124us/step - loss: 0.6496 - acc: 0.7651 - val_loss: 1.7632 - val_acc: 0.5070\n",
      "Epoch 50/100\n",
      "50000/50000 [==============================] - 6s 128us/step - loss: 0.6431 - acc: 0.7709 - val_loss: 1.7484 - val_acc: 0.5259\n",
      "Epoch 51/100\n",
      "50000/50000 [==============================] - 6s 125us/step - loss: 0.6284 - acc: 0.7740 - val_loss: 1.8076 - val_acc: 0.5189\n",
      "Epoch 52/100\n",
      "50000/50000 [==============================] - 6s 119us/step - loss: 0.6149 - acc: 0.7796 - val_loss: 1.8402 - val_acc: 0.5157\n",
      "Epoch 53/100\n",
      "50000/50000 [==============================] - 8s 150us/step - loss: 0.6024 - acc: 0.7859 - val_loss: 1.8620 - val_acc: 0.5087\n",
      "Epoch 54/100\n",
      "50000/50000 [==============================] - 7s 137us/step - loss: 0.5965 - acc: 0.7860 - val_loss: 1.9036 - val_acc: 0.5025\n",
      "Epoch 55/100\n",
      "50000/50000 [==============================] - 7s 135us/step - loss: 0.5867 - acc: 0.7924 - val_loss: 2.0092 - val_acc: 0.5089\n",
      "Epoch 56/100\n",
      "50000/50000 [==============================] - 7s 136us/step - loss: 0.5727 - acc: 0.7953 - val_loss: 1.9308 - val_acc: 0.5041\n",
      "Epoch 57/100\n",
      "50000/50000 [==============================] - 7s 136us/step - loss: 0.5722 - acc: 0.7943 - val_loss: 1.9203 - val_acc: 0.5145\n",
      "Epoch 58/100\n",
      "50000/50000 [==============================] - 6s 128us/step - loss: 0.5557 - acc: 0.8020 - val_loss: 2.0206 - val_acc: 0.5072\n",
      "Epoch 59/100\n"
     ]
    },
    {
     "name": "stdout",
     "output_type": "stream",
     "text": [
      "50000/50000 [==============================] - 6s 120us/step - loss: 0.5374 - acc: 0.8077 - val_loss: 1.9603 - val_acc: 0.5228\n",
      "Epoch 60/100\n",
      "50000/50000 [==============================] - 6s 119us/step - loss: 0.5270 - acc: 0.8117 - val_loss: 2.0392 - val_acc: 0.5148\n",
      "Epoch 61/100\n",
      "50000/50000 [==============================] - 7s 135us/step - loss: 0.5268 - acc: 0.8119 - val_loss: 2.0475 - val_acc: 0.5200\n",
      "Epoch 62/100\n",
      "50000/50000 [==============================] - 6s 126us/step - loss: 0.5183 - acc: 0.8143 - val_loss: 2.0533 - val_acc: 0.5142\n",
      "Epoch 63/100\n",
      "50000/50000 [==============================] - 6s 130us/step - loss: 0.5059 - acc: 0.8182 - val_loss: 2.1135 - val_acc: 0.5116\n",
      "Epoch 64/100\n",
      "50000/50000 [==============================] - 7s 132us/step - loss: 0.4893 - acc: 0.8251 - val_loss: 2.1326 - val_acc: 0.5113\n",
      "Epoch 65/100\n",
      "50000/50000 [==============================] - 6s 123us/step - loss: 0.4890 - acc: 0.8246 - val_loss: 2.1627 - val_acc: 0.5163\n",
      "Epoch 66/100\n",
      "50000/50000 [==============================] - 6s 121us/step - loss: 0.4783 - acc: 0.8284 - val_loss: 2.1705 - val_acc: 0.5074\n",
      "Epoch 67/100\n",
      "50000/50000 [==============================] - 6s 124us/step - loss: 0.4556 - acc: 0.8376 - val_loss: 2.2116 - val_acc: 0.5084\n",
      "Epoch 68/100\n",
      "50000/50000 [==============================] - 6s 123us/step - loss: 0.4757 - acc: 0.8295 - val_loss: 2.2207 - val_acc: 0.5063\n",
      "Epoch 69/100\n",
      "50000/50000 [==============================] - 6s 120us/step - loss: 0.4538 - acc: 0.8382 - val_loss: 2.2161 - val_acc: 0.5095\n",
      "Epoch 70/100\n",
      "50000/50000 [==============================] - 6s 119us/step - loss: 0.4419 - acc: 0.8403 - val_loss: 2.2085 - val_acc: 0.5100\n",
      "Epoch 71/100\n",
      "50000/50000 [==============================] - 6s 119us/step - loss: 0.4380 - acc: 0.8436 - val_loss: 2.3593 - val_acc: 0.4940\n",
      "Epoch 72/100\n",
      "50000/50000 [==============================] - 6s 121us/step - loss: 0.4430 - acc: 0.8403 - val_loss: 2.3549 - val_acc: 0.5028\n",
      "Epoch 73/100\n",
      "50000/50000 [==============================] - 6s 120us/step - loss: 0.4249 - acc: 0.8477 - val_loss: 2.3053 - val_acc: 0.5129\n",
      "Epoch 74/100\n",
      "50000/50000 [==============================] - 6s 120us/step - loss: 0.4194 - acc: 0.8522 - val_loss: 2.3477 - val_acc: 0.5103\n",
      "Epoch 75/100\n",
      "50000/50000 [==============================] - 7s 133us/step - loss: 0.4091 - acc: 0.8542 - val_loss: 2.4037 - val_acc: 0.5058\n",
      "Epoch 76/100\n",
      "50000/50000 [==============================] - 6s 128us/step - loss: 0.4073 - acc: 0.8531 - val_loss: 2.4903 - val_acc: 0.5023\n",
      "Epoch 77/100\n",
      "50000/50000 [==============================] - 6s 119us/step - loss: 0.3902 - acc: 0.8597 - val_loss: 2.4829 - val_acc: 0.5068\n",
      "Epoch 78/100\n",
      "50000/50000 [==============================] - 6s 120us/step - loss: 0.4096 - acc: 0.8525 - val_loss: 2.5723 - val_acc: 0.5019\n",
      "Epoch 79/100\n",
      "50000/50000 [==============================] - 6s 121us/step - loss: 0.4073 - acc: 0.8525 - val_loss: 2.5468 - val_acc: 0.5058\n",
      "Epoch 80/100\n",
      "50000/50000 [==============================] - 7s 138us/step - loss: 0.3843 - acc: 0.8619 - val_loss: 2.6372 - val_acc: 0.5036\n",
      "Epoch 81/100\n",
      "50000/50000 [==============================] - 6s 124us/step - loss: 0.3844 - acc: 0.8605 - val_loss: 2.5204 - val_acc: 0.5087\n",
      "Epoch 82/100\n",
      "50000/50000 [==============================] - 6s 120us/step - loss: 0.3742 - acc: 0.8653 - val_loss: 2.5750 - val_acc: 0.5031\n",
      "Epoch 83/100\n",
      "50000/50000 [==============================] - 6s 119us/step - loss: 0.3616 - acc: 0.8701 - val_loss: 2.7059 - val_acc: 0.5009\n",
      "Epoch 84/100\n",
      "50000/50000 [==============================] - 6s 121us/step - loss: 0.3553 - acc: 0.8710 - val_loss: 2.5946 - val_acc: 0.5085\n",
      "Epoch 85/100\n",
      "50000/50000 [==============================] - 6s 122us/step - loss: 0.3467 - acc: 0.8742 - val_loss: 2.6295 - val_acc: 0.5059\n",
      "Epoch 86/100\n",
      "50000/50000 [==============================] - 6s 122us/step - loss: 0.3524 - acc: 0.8731 - val_loss: 2.7161 - val_acc: 0.4971\n",
      "Epoch 87/100\n",
      "50000/50000 [==============================] - 6s 121us/step - loss: 0.3428 - acc: 0.8768 - val_loss: 2.7488 - val_acc: 0.4986\n",
      "Epoch 88/100\n",
      "50000/50000 [==============================] - 6s 121us/step - loss: 0.3318 - acc: 0.8806 - val_loss: 2.7962 - val_acc: 0.4972\n",
      "Epoch 89/100\n",
      "50000/50000 [==============================] - 6s 123us/step - loss: 0.3232 - acc: 0.8848 - val_loss: 2.7621 - val_acc: 0.5041\n",
      "Epoch 90/100\n",
      "50000/50000 [==============================] - 6s 125us/step - loss: 0.3166 - acc: 0.8852 - val_loss: 2.8722 - val_acc: 0.4984\n",
      "Epoch 91/100\n",
      "50000/50000 [==============================] - 8s 161us/step - loss: 0.3221 - acc: 0.8853 - val_loss: 2.8275 - val_acc: 0.5091\n",
      "Epoch 92/100\n",
      "50000/50000 [==============================] - 6s 128us/step - loss: 0.3185 - acc: 0.8863 - val_loss: 2.8100 - val_acc: 0.5109\n",
      "Epoch 93/100\n",
      "50000/50000 [==============================] - 6s 121us/step - loss: 0.3299 - acc: 0.8815 - val_loss: 2.8574 - val_acc: 0.5057\n",
      "Epoch 94/100\n",
      "50000/50000 [==============================] - 7s 142us/step - loss: 0.3359 - acc: 0.8781 - val_loss: 2.8956 - val_acc: 0.5037\n",
      "Epoch 95/100\n",
      "50000/50000 [==============================] - 6s 129us/step - loss: 0.3030 - acc: 0.8904 - val_loss: 3.0216 - val_acc: 0.4944\n",
      "Epoch 96/100\n",
      "50000/50000 [==============================] - 6s 125us/step - loss: 0.3015 - acc: 0.8909 - val_loss: 2.9530 - val_acc: 0.5053\n",
      "Epoch 97/100\n",
      "50000/50000 [==============================] - 6s 126us/step - loss: 0.2764 - acc: 0.9017 - val_loss: 2.9858 - val_acc: 0.5052\n",
      "Epoch 98/100\n",
      "50000/50000 [==============================] - 6s 122us/step - loss: 0.3091 - acc: 0.8867 - val_loss: 3.0501 - val_acc: 0.4962\n",
      "Epoch 99/100\n",
      "50000/50000 [==============================] - 7s 132us/step - loss: 0.2989 - acc: 0.8934 - val_loss: 2.9965 - val_acc: 0.4997\n",
      "Epoch 100/100\n",
      "50000/50000 [==============================] - 7s 140us/step - loss: 0.2908 - acc: 0.8962 - val_loss: 3.0388 - val_acc: 0.4921\n"
     ]
    },
    {
     "data": {
      "text/plain": [
       "<keras.callbacks.History at 0x7fb4c44ddb38>"
      ]
     },
     "execution_count": 34,
     "metadata": {},
     "output_type": "execute_result"
    }
   ],
   "source": [
    "model.fit(x_train, y_train, \n",
    "          epochs=EPOCHS, \n",
    "          batch_size=BATCH_SIZE, \n",
    "          validation_data=(x_test, y_test), \n",
    "          shuffle=True)"
   ]
  },
  {
   "cell_type": "code",
   "execution_count": 36,
   "metadata": {},
   "outputs": [
    {
     "data": {
      "image/png": "[encoded data removed]",
      "text/plain": [
       "<Figure size 432x288 with 1 Axes>"
      ]
     },
     "metadata": {
      "needs_background": "light"
     },
     "output_type": "display_data"
    },
    {
     "data": {
      "image/png": "[encoded data removed]",
      "text/plain": [
       "<Figure size 432x288 with 1 Axes>"
      ]
     },
     "metadata": {
      "needs_background": "light"
     },
     "output_type": "display_data"
    }
   ],
   "source": [
    "import matplotlib.pyplot as plt\n",
    "\n",
    "\n",
    "train_loss = model.history.history[\"loss\"]\n",
    "valid_loss = model.history.history[\"val_loss\"]\n",
    "\n",
    "train_acc = model.history.history[\"acc\"]\n",
    "valid_acc = model.history.history[\"val_acc\"]\n",
    "\n",
    "plt.plot(range(len(train_loss)), train_loss, label=\"train loss\")\n",
    "plt.plot(range(len(valid_loss)), valid_loss, label=\"valid loss\")\n",
    "plt.legend()\n",
    "plt.title(\"Loss\")\n",
    "plt.show()\n",
    "\n",
    "plt.plot(range(len(train_acc)), train_acc, label=\"train accuracy\")\n",
    "plt.plot(range(len(valid_acc)), valid_acc, label=\"valid accuracy\")\n",
    "plt.legend()\n",
    "plt.title(\"Accuracy\")\n",
    "plt.show()"
   ]
  },
  {
   "cell_type": "markdown",
   "metadata": {},
   "source": [
    "# D78-2\n",
    "* **請嘗試將 mlp 疊更深 (e.g 5~10 層)，進行訓練後觀察 learning curve 的走勢**"
   ]
  },
  {
   "cell_type": "code",
   "execution_count": 37,
   "metadata": {},
   "outputs": [
    {
     "name": "stdout",
     "output_type": "stream",
     "text": [
      "_________________________________________________________________\n",
      "Layer (type)                 Output Shape              Param #   \n",
      "=================================================================\n",
      "input_2 (InputLayer)         (None, 3072)              0         \n",
      "_________________________________________________________________\n",
      "hidden_layer1 (Dense)        (None, 256)               786688    \n",
      "_________________________________________________________________\n",
      "hidden_layer2 (Dense)        (None, 128)               32896     \n",
      "_________________________________________________________________\n",
      "hidden_layer3 (Dense)        (None, 64)                8256      \n",
      "_________________________________________________________________\n",
      "hidden_layer4 (Dense)        (None, 32)                2080      \n",
      "_________________________________________________________________\n",
      "hidden_layer5 (Dense)        (None, 16)                528       \n",
      "_________________________________________________________________\n",
      "output (Dense)               (None, 10)                170       \n",
      "=================================================================\n",
      "Total params: 830,618\n",
      "Trainable params: 830,618\n",
      "Non-trainable params: 0\n",
      "_________________________________________________________________\n"
     ]
    }
   ],
   "source": [
    "def build_mlp(input_shape, output_units=10, num_neurons=[256, 128, 64, 32, 16]):\n",
    "    input_layer = keras.layers.Input(input_shape)\n",
    "    \n",
    "    for i, n_units in enumerate(num_neurons):\n",
    "        if i == 0:\n",
    "            x = keras.layers.Dense(units=n_units, activation=\"relu\", name=\"hidden_layer\"+str(i+1))(input_layer)\n",
    "        else:\n",
    "            x = keras.layers.Dense(units=n_units, activation=\"relu\", name=\"hidden_layer\"+str(i+1))(x)\n",
    "    \n",
    "    out = keras.layers.Dense(units=output_units, activation=\"softmax\", name=\"output\")(x)\n",
    "    \n",
    "    model = keras.models.Model(inputs=[input_layer], outputs=[out])\n",
    "    return model\n",
    "\n",
    "model = build_mlp(input_shape=x_train.shape[1:])\n",
    "\n",
    "model.summary()"
   ]
  },
  {
   "cell_type": "code",
   "execution_count": 38,
   "metadata": {},
   "outputs": [],
   "source": [
    "## 超參數設定\n",
    "LEARNING_RATE = 0.001\n",
    "EPOCHS = 100\n",
    "BATCH_SIZE = 256"
   ]
  },
  {
   "cell_type": "code",
   "execution_count": 39,
   "metadata": {},
   "outputs": [],
   "source": [
    "optimizer = keras.optimizers.Adam(lr=LEARNING_RATE)\n",
    "model.compile(loss=\"categorical_crossentropy\", metrics=[\"accuracy\"], optimizer=optimizer)"
   ]
  },
  {
   "cell_type": "code",
   "execution_count": 40,
   "metadata": {},
   "outputs": [
    {
     "name": "stdout",
     "output_type": "stream",
     "text": [
      "Train on 50000 samples, validate on 10000 samples\n",
      "Epoch 1/100\n",
      "50000/50000 [==============================] - 3s 68us/step - loss: 2.0851 - acc: 0.2299 - val_loss: 1.8899 - val_acc: 0.3204\n",
      "Epoch 2/100\n",
      "50000/50000 [==============================] - 3s 61us/step - loss: 1.8520 - acc: 0.3327 - val_loss: 1.7977 - val_acc: 0.3507\n",
      "Epoch 3/100\n",
      "50000/50000 [==============================] - 3s 68us/step - loss: 1.7559 - acc: 0.3678 - val_loss: 1.7246 - val_acc: 0.3759\n",
      "Epoch 4/100\n",
      "50000/50000 [==============================] - 4s 71us/step - loss: 1.6874 - acc: 0.3946 - val_loss: 1.6761 - val_acc: 0.3988\n",
      "Epoch 5/100\n",
      "50000/50000 [==============================] - 3s 69us/step - loss: 1.6417 - acc: 0.4109 - val_loss: 1.6532 - val_acc: 0.3997\n",
      "Epoch 6/100\n",
      "50000/50000 [==============================] - 3s 69us/step - loss: 1.5970 - acc: 0.4245 - val_loss: 1.6158 - val_acc: 0.4197\n",
      "Epoch 7/100\n",
      "50000/50000 [==============================] - 3s 65us/step - loss: 1.5685 - acc: 0.4358 - val_loss: 1.5985 - val_acc: 0.4264\n",
      "Epoch 8/100\n",
      "50000/50000 [==============================] - 3s 65us/step - loss: 1.5254 - acc: 0.4522 - val_loss: 1.5220 - val_acc: 0.4620\n",
      "Epoch 9/100\n",
      "50000/50000 [==============================] - 3s 66us/step - loss: 1.4983 - acc: 0.4629 - val_loss: 1.5383 - val_acc: 0.4521\n",
      "Epoch 10/100\n",
      "50000/50000 [==============================] - 3s 66us/step - loss: 1.4770 - acc: 0.4722 - val_loss: 1.5366 - val_acc: 0.4529\n",
      "Epoch 11/100\n",
      "50000/50000 [==============================] - 3s 69us/step - loss: 1.4446 - acc: 0.4840 - val_loss: 1.4694 - val_acc: 0.4759\n",
      "Epoch 12/100\n",
      "50000/50000 [==============================] - 3s 68us/step - loss: 1.4201 - acc: 0.4911 - val_loss: 1.4636 - val_acc: 0.4856\n",
      "Epoch 13/100\n",
      "50000/50000 [==============================] - 3s 67us/step - loss: 1.4034 - acc: 0.4984 - val_loss: 1.5301 - val_acc: 0.4554\n",
      "Epoch 14/100\n",
      "50000/50000 [==============================] - 3s 66us/step - loss: 1.3784 - acc: 0.5089 - val_loss: 1.5273 - val_acc: 0.4641\n",
      "Epoch 15/100\n",
      "50000/50000 [==============================] - 3s 67us/step - loss: 1.3688 - acc: 0.5124 - val_loss: 1.4540 - val_acc: 0.4904\n",
      "Epoch 16/100\n",
      "50000/50000 [==============================] - 4s 75us/step - loss: 1.3460 - acc: 0.5198 - val_loss: 1.4372 - val_acc: 0.4944\n",
      "Epoch 17/100\n",
      "50000/50000 [==============================] - 4s 71us/step - loss: 1.3327 - acc: 0.5235 - val_loss: 1.4581 - val_acc: 0.4854\n",
      "Epoch 18/100\n",
      "50000/50000 [==============================] - 3s 68us/step - loss: 1.3141 - acc: 0.5277 - val_loss: 1.4702 - val_acc: 0.4844\n",
      "Epoch 19/100\n",
      "50000/50000 [==============================] - 3s 66us/step - loss: 1.3043 - acc: 0.5338 - val_loss: 1.4059 - val_acc: 0.5106\n",
      "Epoch 20/100\n",
      "50000/50000 [==============================] - 3s 66us/step - loss: 1.2921 - acc: 0.5384 - val_loss: 1.4394 - val_acc: 0.4907\n",
      "Epoch 21/100\n",
      "50000/50000 [==============================] - 3s 67us/step - loss: 1.2667 - acc: 0.5478 - val_loss: 1.4446 - val_acc: 0.4968\n",
      "Epoch 22/100\n",
      "50000/50000 [==============================] - 3s 66us/step - loss: 1.2598 - acc: 0.5480 - val_loss: 1.4254 - val_acc: 0.4998\n",
      "Epoch 23/100\n",
      "50000/50000 [==============================] - 3s 67us/step - loss: 1.2420 - acc: 0.5555 - val_loss: 1.4358 - val_acc: 0.5011\n",
      "Epoch 24/100\n",
      "50000/50000 [==============================] - 4s 73us/step - loss: 1.2274 - acc: 0.5602 - val_loss: 1.4261 - val_acc: 0.5062\n",
      "Epoch 25/100\n",
      "50000/50000 [==============================] - 4s 73us/step - loss: 1.2183 - acc: 0.5641 - val_loss: 1.4001 - val_acc: 0.5137\n",
      "Epoch 26/100\n",
      "50000/50000 [==============================] - 3s 69us/step - loss: 1.2004 - acc: 0.5697 - val_loss: 1.4093 - val_acc: 0.5123\n",
      "Epoch 27/100\n",
      "50000/50000 [==============================] - 3s 67us/step - loss: 1.1904 - acc: 0.5746 - val_loss: 1.4449 - val_acc: 0.5038\n",
      "Epoch 28/100\n",
      "50000/50000 [==============================] - 3s 65us/step - loss: 1.1809 - acc: 0.5768 - val_loss: 1.3988 - val_acc: 0.5117\n",
      "Epoch 29/100\n",
      "50000/50000 [==============================] - 3s 68us/step - loss: 1.1661 - acc: 0.5797 - val_loss: 1.4561 - val_acc: 0.5012\n",
      "Epoch 30/100\n",
      "50000/50000 [==============================] - 4s 76us/step - loss: 1.1650 - acc: 0.5804 - val_loss: 1.4039 - val_acc: 0.5195\n",
      "Epoch 31/100\n",
      "50000/50000 [==============================] - 4s 71us/step - loss: 1.1609 - acc: 0.5826 - val_loss: 1.4149 - val_acc: 0.5143\n",
      "Epoch 32/100\n",
      "50000/50000 [==============================] - 3s 68us/step - loss: 1.1445 - acc: 0.5906 - val_loss: 1.4270 - val_acc: 0.5126\n",
      "Epoch 33/100\n",
      "50000/50000 [==============================] - 3s 67us/step - loss: 1.1367 - acc: 0.5941 - val_loss: 1.3934 - val_acc: 0.5179\n",
      "Epoch 34/100\n",
      "50000/50000 [==============================] - 3s 67us/step - loss: 1.1255 - acc: 0.5981 - val_loss: 1.4595 - val_acc: 0.5064\n",
      "Epoch 35/100\n",
      "50000/50000 [==============================] - 3s 67us/step - loss: 1.1207 - acc: 0.5963 - val_loss: 1.4277 - val_acc: 0.5124\n",
      "Epoch 36/100\n",
      "50000/50000 [==============================] - 3s 67us/step - loss: 1.1066 - acc: 0.6013 - val_loss: 1.4220 - val_acc: 0.5087\n",
      "Epoch 37/100\n",
      "50000/50000 [==============================] - 4s 72us/step - loss: 1.1023 - acc: 0.6042 - val_loss: 1.4006 - val_acc: 0.5208\n",
      "Epoch 38/100\n",
      "50000/50000 [==============================] - 4s 78us/step - loss: 1.0867 - acc: 0.6083 - val_loss: 1.4222 - val_acc: 0.5145\n",
      "Epoch 39/100\n",
      "50000/50000 [==============================] - 4s 74us/step - loss: 1.0791 - acc: 0.6142 - val_loss: 1.4424 - val_acc: 0.5087\n",
      "Epoch 40/100\n",
      "50000/50000 [==============================] - 4s 70us/step - loss: 1.0731 - acc: 0.6151 - val_loss: 1.4558 - val_acc: 0.5123\n",
      "Epoch 41/100\n",
      "50000/50000 [==============================] - 4s 71us/step - loss: 1.0709 - acc: 0.6156 - val_loss: 1.4115 - val_acc: 0.5200\n",
      "Epoch 42/100\n",
      "50000/50000 [==============================] - 4s 72us/step - loss: 1.0523 - acc: 0.6206 - val_loss: 1.4304 - val_acc: 0.5116\n",
      "Epoch 43/100\n",
      "50000/50000 [==============================] - 4s 70us/step - loss: 1.0565 - acc: 0.6217 - val_loss: 1.4552 - val_acc: 0.5054\n",
      "Epoch 44/100\n",
      "50000/50000 [==============================] - 4s 72us/step - loss: 1.0407 - acc: 0.6266 - val_loss: 1.4547 - val_acc: 0.5107\n",
      "Epoch 45/100\n",
      "50000/50000 [==============================] - 4s 70us/step - loss: 1.0353 - acc: 0.6295 - val_loss: 1.4520 - val_acc: 0.5119\n",
      "Epoch 46/100\n",
      "50000/50000 [==============================] - 4s 73us/step - loss: 1.0268 - acc: 0.6312 - val_loss: 1.4683 - val_acc: 0.5153\n",
      "Epoch 47/100\n",
      "50000/50000 [==============================] - 3s 70us/step - loss: 1.0116 - acc: 0.6370 - val_loss: 1.4571 - val_acc: 0.5180\n",
      "Epoch 48/100\n",
      "50000/50000 [==============================] - 4s 73us/step - loss: 1.0060 - acc: 0.6403 - val_loss: 1.4778 - val_acc: 0.5130\n",
      "Epoch 49/100\n",
      "50000/50000 [==============================] - 3s 70us/step - loss: 1.0019 - acc: 0.6403 - val_loss: 1.4794 - val_acc: 0.5132\n",
      "Epoch 50/100\n",
      "50000/50000 [==============================] - 4s 71us/step - loss: 0.9919 - acc: 0.6455 - val_loss: 1.4640 - val_acc: 0.5214\n",
      "Epoch 51/100\n",
      "50000/50000 [==============================] - 4s 71us/step - loss: 0.9822 - acc: 0.6472 - val_loss: 1.4767 - val_acc: 0.5123\n",
      "Epoch 52/100\n",
      "50000/50000 [==============================] - 4s 71us/step - loss: 0.9708 - acc: 0.6499 - val_loss: 1.4523 - val_acc: 0.5223\n",
      "Epoch 53/100\n",
      "50000/50000 [==============================] - 4s 72us/step - loss: 0.9776 - acc: 0.6481 - val_loss: 1.5015 - val_acc: 0.5095\n",
      "Epoch 54/100\n",
      "50000/50000 [==============================] - 4s 72us/step - loss: 0.9611 - acc: 0.6543 - val_loss: 1.5565 - val_acc: 0.5039\n",
      "Epoch 55/100\n",
      "50000/50000 [==============================] - 4s 80us/step - loss: 0.9662 - acc: 0.6519 - val_loss: 1.5397 - val_acc: 0.5066\n",
      "Epoch 56/100\n",
      "50000/50000 [==============================] - 4s 78us/step - loss: 0.9574 - acc: 0.6557 - val_loss: 1.5285 - val_acc: 0.5101\n",
      "Epoch 57/100\n",
      "50000/50000 [==============================] - 4s 77us/step - loss: 0.9493 - acc: 0.6597 - val_loss: 1.5447 - val_acc: 0.5014\n",
      "Epoch 58/100\n",
      "50000/50000 [==============================] - 3s 69us/step - loss: 0.9390 - acc: 0.6612 - val_loss: 1.5754 - val_acc: 0.5018\n",
      "Epoch 59/100\n"
     ]
    },
    {
     "name": "stdout",
     "output_type": "stream",
     "text": [
      "50000/50000 [==============================] - 3s 70us/step - loss: 0.9445 - acc: 0.6593 - val_loss: 1.5156 - val_acc: 0.5180\n",
      "Epoch 60/100\n",
      "50000/50000 [==============================] - 3s 67us/step - loss: 0.9342 - acc: 0.6641 - val_loss: 1.5244 - val_acc: 0.5089\n",
      "Epoch 61/100\n",
      "50000/50000 [==============================] - 3s 67us/step - loss: 0.9284 - acc: 0.6671 - val_loss: 1.5447 - val_acc: 0.5098\n",
      "Epoch 62/100\n",
      "50000/50000 [==============================] - 3s 67us/step - loss: 0.9171 - acc: 0.6695 - val_loss: 1.5502 - val_acc: 0.5143\n",
      "Epoch 63/100\n",
      "50000/50000 [==============================] - 4s 75us/step - loss: 0.9164 - acc: 0.6706 - val_loss: 1.5577 - val_acc: 0.5078\n",
      "Epoch 64/100\n",
      "50000/50000 [==============================] - 4s 76us/step - loss: 0.9051 - acc: 0.6745 - val_loss: 1.5263 - val_acc: 0.5158\n",
      "Epoch 65/100\n",
      "50000/50000 [==============================] - 4s 72us/step - loss: 0.9063 - acc: 0.6730 - val_loss: 1.5740 - val_acc: 0.5105\n",
      "Epoch 66/100\n",
      "50000/50000 [==============================] - 3s 68us/step - loss: 0.8939 - acc: 0.6799 - val_loss: 1.5562 - val_acc: 0.5128\n",
      "Epoch 67/100\n",
      "50000/50000 [==============================] - 3s 65us/step - loss: 0.8837 - acc: 0.6794 - val_loss: 1.5827 - val_acc: 0.5144\n",
      "Epoch 68/100\n",
      "50000/50000 [==============================] - 3s 66us/step - loss: 0.8808 - acc: 0.6848 - val_loss: 1.6071 - val_acc: 0.5017\n",
      "Epoch 69/100\n",
      "50000/50000 [==============================] - 3s 67us/step - loss: 0.8823 - acc: 0.6807 - val_loss: 1.5910 - val_acc: 0.5136\n",
      "Epoch 70/100\n",
      "50000/50000 [==============================] - 3s 66us/step - loss: 0.8619 - acc: 0.6897 - val_loss: 1.6244 - val_acc: 0.5074\n",
      "Epoch 71/100\n",
      "50000/50000 [==============================] - 4s 71us/step - loss: 0.8736 - acc: 0.6860 - val_loss: 1.5941 - val_acc: 0.5122\n",
      "Epoch 72/100\n",
      "50000/50000 [==============================] - 3s 65us/step - loss: 0.8675 - acc: 0.6863 - val_loss: 1.6003 - val_acc: 0.5090\n",
      "Epoch 73/100\n",
      "50000/50000 [==============================] - 4s 72us/step - loss: 0.8521 - acc: 0.6939 - val_loss: 1.6406 - val_acc: 0.4997\n",
      "Epoch 74/100\n",
      "50000/50000 [==============================] - 3s 70us/step - loss: 0.8443 - acc: 0.6952 - val_loss: 1.6541 - val_acc: 0.5037\n",
      "Epoch 75/100\n",
      "50000/50000 [==============================] - 3s 69us/step - loss: 0.8455 - acc: 0.6955 - val_loss: 1.6620 - val_acc: 0.4984\n",
      "Epoch 76/100\n",
      "50000/50000 [==============================] - 3s 66us/step - loss: 0.8449 - acc: 0.6953 - val_loss: 1.6309 - val_acc: 0.5092\n",
      "Epoch 77/100\n",
      "50000/50000 [==============================] - 3s 66us/step - loss: 0.8396 - acc: 0.6977 - val_loss: 1.6745 - val_acc: 0.5082\n",
      "Epoch 78/100\n",
      "50000/50000 [==============================] - 3s 69us/step - loss: 0.8472 - acc: 0.6941 - val_loss: 1.6475 - val_acc: 0.4975\n",
      "Epoch 79/100\n",
      "50000/50000 [==============================] - 3s 65us/step - loss: 0.8248 - acc: 0.7028 - val_loss: 1.6633 - val_acc: 0.4997\n",
      "Epoch 80/100\n",
      "50000/50000 [==============================] - 3s 67us/step - loss: 0.8335 - acc: 0.6996 - val_loss: 1.6501 - val_acc: 0.5095\n",
      "Epoch 81/100\n",
      "50000/50000 [==============================] - 3s 66us/step - loss: 0.8235 - acc: 0.7023 - val_loss: 1.6490 - val_acc: 0.5016\n",
      "Epoch 82/100\n",
      "50000/50000 [==============================] - 3s 66us/step - loss: 0.8152 - acc: 0.7066 - val_loss: 1.6982 - val_acc: 0.4987\n",
      "Epoch 83/100\n",
      "50000/50000 [==============================] - 3s 68us/step - loss: 0.8124 - acc: 0.7060 - val_loss: 1.7350 - val_acc: 0.4926\n",
      "Epoch 84/100\n",
      "50000/50000 [==============================] - 4s 72us/step - loss: 0.8046 - acc: 0.7099 - val_loss: 1.6765 - val_acc: 0.5053\n",
      "Epoch 85/100\n",
      "50000/50000 [==============================] - 4s 73us/step - loss: 0.7992 - acc: 0.7118 - val_loss: 1.6786 - val_acc: 0.5060\n",
      "Epoch 86/100\n",
      "50000/50000 [==============================] - 4s 74us/step - loss: 0.7992 - acc: 0.7116 - val_loss: 1.7770 - val_acc: 0.4948\n",
      "Epoch 87/100\n",
      "50000/50000 [==============================] - 4s 76us/step - loss: 0.7924 - acc: 0.7156 - val_loss: 1.7487 - val_acc: 0.4993\n",
      "Epoch 88/100\n",
      "50000/50000 [==============================] - 3s 69us/step - loss: 0.7907 - acc: 0.7140 - val_loss: 1.7356 - val_acc: 0.5015\n",
      "Epoch 89/100\n",
      "50000/50000 [==============================] - 4s 72us/step - loss: 0.7854 - acc: 0.7171 - val_loss: 1.7463 - val_acc: 0.5020\n",
      "Epoch 90/100\n",
      "50000/50000 [==============================] - 4s 71us/step - loss: 0.7661 - acc: 0.7242 - val_loss: 1.7751 - val_acc: 0.5004\n",
      "Epoch 91/100\n",
      "50000/50000 [==============================] - 4s 71us/step - loss: 0.7655 - acc: 0.7241 - val_loss: 1.7630 - val_acc: 0.5068\n",
      "Epoch 92/100\n",
      "50000/50000 [==============================] - 4s 72us/step - loss: 0.7740 - acc: 0.7174 - val_loss: 1.7470 - val_acc: 0.5091\n",
      "Epoch 93/100\n",
      "50000/50000 [==============================] - 4s 71us/step - loss: 0.7632 - acc: 0.7246 - val_loss: 1.7792 - val_acc: 0.5050\n",
      "Epoch 94/100\n",
      "50000/50000 [==============================] - 4s 72us/step - loss: 0.7543 - acc: 0.7274 - val_loss: 1.7808 - val_acc: 0.5012\n",
      "Epoch 95/100\n",
      "50000/50000 [==============================] - 3s 69us/step - loss: 0.7575 - acc: 0.7268 - val_loss: 1.8191 - val_acc: 0.5006\n",
      "Epoch 96/100\n",
      "50000/50000 [==============================] - 4s 73us/step - loss: 0.7616 - acc: 0.7258 - val_loss: 1.8324 - val_acc: 0.4965\n",
      "Epoch 97/100\n",
      "50000/50000 [==============================] - 3s 69us/step - loss: 0.7438 - acc: 0.7328 - val_loss: 1.8368 - val_acc: 0.5000\n",
      "Epoch 98/100\n",
      "50000/50000 [==============================] - 4s 74us/step - loss: 0.7479 - acc: 0.7294 - val_loss: 1.8566 - val_acc: 0.4930\n",
      "Epoch 99/100\n",
      "50000/50000 [==============================] - 4s 71us/step - loss: 0.7446 - acc: 0.7301 - val_loss: 1.8484 - val_acc: 0.4974\n",
      "Epoch 100/100\n",
      "50000/50000 [==============================] - 4s 72us/step - loss: 0.7393 - acc: 0.7342 - val_loss: 1.8352 - val_acc: 0.4962\n"
     ]
    },
    {
     "data": {
      "text/plain": [
       "<keras.callbacks.History at 0x7fb4904f5978>"
      ]
     },
     "execution_count": 40,
     "metadata": {},
     "output_type": "execute_result"
    }
   ],
   "source": [
    "model.fit(x_train, y_train, \n",
    "          epochs=EPOCHS, \n",
    "          batch_size=BATCH_SIZE, \n",
    "          validation_data=(x_test, y_test), \n",
    "          shuffle=True)"
   ]
  },
  {
   "cell_type": "code",
   "execution_count": 41,
   "metadata": {},
   "outputs": [
    {
     "data": {
      "image/png": "[encoded data removed]",
      "text/plain": [
       "<Figure size 432x288 with 1 Axes>"
      ]
     },
     "metadata": {
      "needs_background": "light"
     },
     "output_type": "display_data"
    },
    {
     "data": {
      "image/png": "[encoded data removed]",
      "text/plain": [
       "<Figure size 432x288 with 1 Axes>"
      ]
     },
     "metadata": {
      "needs_background": "light"
     },
     "output_type": "display_data"
    }
   ],
   "source": [
    "import matplotlib.pyplot as plt\n",
    "\n",
    "\n",
    "train_loss = model.history.history[\"loss\"]\n",
    "valid_loss = model.history.history[\"val_loss\"]\n",
    "\n",
    "train_acc = model.history.history[\"acc\"]\n",
    "valid_acc = model.history.history[\"val_acc\"]\n",
    "\n",
    "plt.plot(range(len(train_loss)), train_loss, label=\"train loss\")\n",
    "plt.plot(range(len(valid_loss)), valid_loss, label=\"valid loss\")\n",
    "plt.legend()\n",
    "plt.title(\"Loss\")\n",
    "plt.show()\n",
    "\n",
    "plt.plot(range(len(train_acc)), train_acc, label=\"train accuracy\")\n",
    "plt.plot(range(len(valid_acc)), valid_acc, label=\"valid accuracy\")\n",
    "plt.legend()\n",
    "plt.title(\"Accuracy\")\n",
    "plt.show()"
   ]
  },
  {
   "cell_type": "code",
   "execution_count": null,
   "metadata": {},
   "outputs": [],
   "source": []
  }
 ],
 "metadata": {
  "kernelspec": {
   "display_name": "Python 3",
   "language": "python",
   "name": "python3"
  },
  "language_info": {
   "codemirror_mode": {
    "name": "ipython",
    "version": 3
   },
   "file_extension": ".py",
   "mimetype": "text/x-python",
   "name": "python",
   "nbconvert_exporter": "python",
   "pygments_lexer": "ipython3",
   "version": "3.7.3"
  },
  "varInspector": {
   "cols": {
    "lenName": 16,
    "lenType": 16,
    "lenVar": 40
   },
   "kernels_config": {
    "python": {
     "delete_cmd_postfix": "",
     "delete_cmd_prefix": "del ",
     "library": "var_list.py",
     "varRefreshCmd": "print(var_dic_list())"
    },
    "r": {
     "delete_cmd_postfix": ") ",
     "delete_cmd_prefix": "rm(",
     "library": "var_list.r",
     "varRefreshCmd": "cat(var_dic_list()) "
    }
   },
   "types_to_exclude": [
    "module",
    "function",
    "builtin_function_or_method",
    "instance",
    "_Feature"
   ],
   "window_display": false
  }
 },
 "nbformat": 4,
 "nbformat_minor": 2
}
