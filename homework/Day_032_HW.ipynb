{
 "cells": [
  {
   "cell_type": "markdown",
   "metadata": {},
   "source": [
    "# D32-1\n",
    "* **看看全球機器學習巨頭們在做的機器學習專案。**\n",
    "* **以 google 為例，下圖是 Google 內部專案使用機器學習的數量。**\n",
    "* **隨著時間進展，現在早已超過 2000 個專案在使用 ML。**"
   ]
  },
  {
   "cell_type": "markdown",
   "metadata": {},
   "source": [
    "![image](https://cdn-images-1.medium.com/max/800/1*U_L8qI8RmYS-MOBrYvXhSA.png)"
   ]
  },
  {
   "cell_type": "markdown",
   "metadata": {},
   "source": [
    "底下為幾間知名企業的 blog 或機器學習網站 (自行搜尋也可)，請挑選一篇文章閱讀"
   ]
  },
  {
   "cell_type": "markdown",
   "metadata": {},
   "source": [
    "- [Google AI blog](https://ai.googleblog.com/)\n",
    "- [Facebook Research blog](https://research.fb.com/blog/)\n",
    "- [Apple machine learning journal](https://machinelearning.apple.com/)\n",
    "- [機器之心](https://www.jiqizhixin.com/)\n",
    "- [雷鋒網](http://www.leiphone.com/category/ai)"
   ]
  },
  {
   "cell_type": "markdown",
   "metadata": {},
   "source": [
    "# Introducing Translatotron: \n",
    "## An End-to-End Speech-to-Speech Translation Model\n",
    "Posted by Ye Jia and Ron Weiss, Software Engineers, Google AI"
   ]
  },
  {
   "cell_type": "markdown",
   "metadata": {},
   "source": [
    "**1. 專案的目標？**\n",
    " * 直接由語音來源辨識為語音結果，不再透過轉成文字的步驟\n",
    " * 避免了語音轉文字再轉語音這個過程中可能發生的錯誤\n",
    " * 辨識更有效率且可以保留原始語音源的聲音特徵"
   ]
  },
  {
   "cell_type": "markdown",
   "metadata": {},
   "source": [
    "**2. 使用的技術是？**\n",
    " * sequence-to-sequence model"
   ]
  },
  {
   "cell_type": "markdown",
   "metadata": {},
   "source": [
    "**3. 資料來源？ **\n",
    " * Google 其他專案所蒐集並建立的資料庫、他人向 AIY網站 的資料貢獻"
   ]
  }
 ],
 "metadata": {
  "kernelspec": {
   "display_name": "Python 3",
   "language": "python",
   "name": "python3"
  },
  "language_info": {
   "codemirror_mode": {
    "name": "ipython",
    "version": 3
   },
   "file_extension": ".py",
   "mimetype": "text/x-python",
   "name": "python",
   "nbconvert_exporter": "python",
   "pygments_lexer": "ipython3",
   "version": "3.6.4"
  }
 },
 "nbformat": 4,
 "nbformat_minor": 2
}
