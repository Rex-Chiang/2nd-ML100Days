{
 "cells": [
  {
   "cell_type": "markdown",
   "metadata": {},
   "source": [
    "# D85-1\n",
    "* **改變 monitor \"Validation Accuracy\" 並比較結果**\n",
    "* **調整 earlystop 的等待次數至 10, 25 並比較結果**"
   ]
  },
  {
   "cell_type": "code",
   "execution_count": 1,
   "metadata": {},
   "outputs": [
    {
     "name": "stderr",
     "output_type": "stream",
     "text": [
      "/home/rex/anaconda3/lib/python3.6/site-packages/h5py/__init__.py:36: FutureWarning: Conversion of the second argument of issubdtype from `float` to `np.floating` is deprecated. In future, it will be treated as `np.float64 == np.dtype(float).type`.\n",
      "  from ._conv import register_converters as _register_converters\n",
      "Using TensorFlow backend.\n"
     ]
    }
   ],
   "source": [
    "import os\n",
    "import keras\n",
    "import matplotlib.pyplot as plt\n",
    "%matplotlib inline\n",
    "\n",
    "\n",
    "# Disable GPU\n",
    "os.environ[\"CUDA_VISIBLE_DEVICES\"] = \"1\""
   ]
  },
  {
   "cell_type": "code",
   "execution_count": 2,
   "metadata": {},
   "outputs": [],
   "source": [
    "train, test = keras.datasets.cifar10.load_data()"
   ]
  },
  {
   "cell_type": "code",
   "execution_count": 3,
   "metadata": {},
   "outputs": [],
   "source": [
    "## 資料前處理\n",
    "def preproc_x(x, flatten=True):\n",
    "    x = x / 255.\n",
    "    if flatten:\n",
    "        x = x.reshape((len(x), -1))\n",
    "    return x\n",
    "\n",
    "def preproc_y(y, num_classes=10):\n",
    "    if y.shape[-1] == 1:\n",
    "        y = keras.utils.to_categorical(y, num_classes)\n",
    "    return y    "
   ]
  },
  {
   "cell_type": "code",
   "execution_count": 4,
   "metadata": {},
   "outputs": [],
   "source": [
    "x_train, y_train = train\n",
    "x_test, y_test = test\n",
    "\n",
    "# Preproc the inputs\n",
    "x_train = preproc_x(x_train)\n",
    "x_test = preproc_x(x_test)\n",
    "\n",
    "# Preprc the outputs\n",
    "y_train = preproc_y(y_train)\n",
    "y_test = preproc_y(y_test)"
   ]
  },
  {
   "cell_type": "code",
   "execution_count": 5,
   "metadata": {},
   "outputs": [],
   "source": [
    "from keras.layers import BatchNormalization\n",
    "\n",
    "def build_mlp(input_shape, output_units=10, num_neurons=[512, 256, 128]):\n",
    "    input_layer = keras.layers.Input(input_shape)\n",
    "    \n",
    "    for i, n_units in enumerate(num_neurons):\n",
    "        if i == 0:\n",
    "            x = keras.layers.Dense(units=n_units, \n",
    "                                   activation=\"relu\", \n",
    "                                   name=\"hidden_layer\"+str(i+1))(input_layer)\n",
    "            x = BatchNormalization()(x)\n",
    "        else:\n",
    "            x = keras.layers.Dense(units=n_units, \n",
    "                                   activation=\"relu\", \n",
    "                                   name=\"hidden_layer\"+str(i+1))(x)\n",
    "            x = BatchNormalization()(x)\n",
    "    \n",
    "    out = keras.layers.Dense(units=output_units, activation=\"softmax\", name=\"output\")(x)\n",
    "    \n",
    "    model = keras.models.Model(inputs=[input_layer], outputs=[out])\n",
    "    return model"
   ]
  },
  {
   "cell_type": "code",
   "execution_count": 6,
   "metadata": {},
   "outputs": [],
   "source": [
    "## 超參數設定\n",
    "LEARNING_RATE = 1e-3\n",
    "EPOCHS = 50\n",
    "BATCH_SIZE = 1024\n",
    "MOMENTUM = 0.95"
   ]
  },
  {
   "cell_type": "code",
   "execution_count": 7,
   "metadata": {},
   "outputs": [],
   "source": [
    "# 載入 Callbacks\n",
    "\"\"\"\n",
    "# 載入 Callbacks, 並將 monitor 設定為監控 Validation Accuracy\n",
    "\"\"\"\n",
    "from keras.callbacks import EarlyStopping\n",
    "\n",
    "earlystop = EarlyStopping(monitor=\"val_acc\", \n",
    "                          patience=5, \n",
    "                          verbose=1\n",
    "                          )"
   ]
  },
  {
   "cell_type": "code",
   "execution_count": 8,
   "metadata": {},
   "outputs": [
    {
     "name": "stderr",
     "output_type": "stream",
     "text": [
      "WARNING: Logging before flag parsing goes to stderr.\n",
      "W0806 16:07:23.349868 139932033984256 deprecation_wrapper.py:119] From /home/rex/anaconda3/lib/python3.6/site-packages/keras/backend/tensorflow_backend.py:74: The name tf.get_default_graph is deprecated. Please use tf.compat.v1.get_default_graph instead.\n",
      "\n",
      "W0806 16:07:23.375658 139932033984256 deprecation_wrapper.py:119] From /home/rex/anaconda3/lib/python3.6/site-packages/keras/backend/tensorflow_backend.py:517: The name tf.placeholder is deprecated. Please use tf.compat.v1.placeholder instead.\n",
      "\n",
      "W0806 16:07:23.383337 139932033984256 deprecation_wrapper.py:119] From /home/rex/anaconda3/lib/python3.6/site-packages/keras/backend/tensorflow_backend.py:4138: The name tf.random_uniform is deprecated. Please use tf.random.uniform instead.\n",
      "\n",
      "W0806 16:07:23.614154 139932033984256 deprecation_wrapper.py:119] From /home/rex/anaconda3/lib/python3.6/site-packages/keras/backend/tensorflow_backend.py:133: The name tf.placeholder_with_default is deprecated. Please use tf.compat.v1.placeholder_with_default instead.\n",
      "\n",
      "W0806 16:07:24.390434 139932033984256 deprecation_wrapper.py:119] From /home/rex/anaconda3/lib/python3.6/site-packages/keras/optimizers.py:790: The name tf.train.Optimizer is deprecated. Please use tf.compat.v1.train.Optimizer instead.\n",
      "\n",
      "W0806 16:07:24.405196 139932033984256 deprecation_wrapper.py:119] From /home/rex/anaconda3/lib/python3.6/site-packages/keras/backend/tensorflow_backend.py:3295: The name tf.log is deprecated. Please use tf.math.log instead.\n",
      "\n"
     ]
    },
    {
     "name": "stdout",
     "output_type": "stream",
     "text": [
      "_________________________________________________________________\n",
      "Layer (type)                 Output Shape              Param #   \n",
      "=================================================================\n",
      "input_1 (InputLayer)         (None, 3072)              0         \n",
      "_________________________________________________________________\n",
      "hidden_layer1 (Dense)        (None, 512)               1573376   \n",
      "_________________________________________________________________\n",
      "batch_normalization_1 (Batch (None, 512)               2048      \n",
      "_________________________________________________________________\n",
      "hidden_layer2 (Dense)        (None, 256)               131328    \n",
      "_________________________________________________________________\n",
      "batch_normalization_2 (Batch (None, 256)               1024      \n",
      "_________________________________________________________________\n",
      "hidden_layer3 (Dense)        (None, 128)               32896     \n",
      "_________________________________________________________________\n",
      "batch_normalization_3 (Batch (None, 128)               512       \n",
      "_________________________________________________________________\n",
      "output (Dense)               (None, 10)                1290      \n",
      "=================================================================\n",
      "Total params: 1,742,474\n",
      "Trainable params: 1,740,682\n",
      "Non-trainable params: 1,792\n",
      "_________________________________________________________________\n"
     ]
    },
    {
     "name": "stderr",
     "output_type": "stream",
     "text": [
      "W0806 16:07:24.638856 139932033984256 deprecation.py:323] From /home/rex/anaconda3/lib/python3.6/site-packages/tensorflow/python/ops/math_grad.py:1250: add_dispatch_support.<locals>.wrapper (from tensorflow.python.ops.array_ops) is deprecated and will be removed in a future version.\n",
      "Instructions for updating:\n",
      "Use tf.where in 2.0, which has the same broadcast rule as np.where\n"
     ]
    },
    {
     "name": "stdout",
     "output_type": "stream",
     "text": [
      "Train on 50000 samples, validate on 10000 samples\n",
      "Epoch 1/50\n",
      "50000/50000 [==============================] - 9s 179us/step - loss: 2.1860 - acc: 0.2778 - val_loss: 2.0879 - val_acc: 0.3268\n",
      "Epoch 2/50\n",
      "50000/50000 [==============================] - 6s 120us/step - loss: 1.7341 - acc: 0.3991 - val_loss: 1.8230 - val_acc: 0.3874\n",
      "Epoch 3/50\n",
      "50000/50000 [==============================] - 6s 122us/step - loss: 1.6131 - acc: 0.4375 - val_loss: 1.7117 - val_acc: 0.4020\n",
      "Epoch 4/50\n",
      "50000/50000 [==============================] - 6s 113us/step - loss: 1.5402 - acc: 0.4621 - val_loss: 1.6241 - val_acc: 0.4285\n",
      "Epoch 5/50\n",
      "50000/50000 [==============================] - 6s 118us/step - loss: 1.4856 - acc: 0.4814 - val_loss: 1.6143 - val_acc: 0.4441\n",
      "Epoch 6/50\n",
      "50000/50000 [==============================] - 6s 118us/step - loss: 1.4421 - acc: 0.4966 - val_loss: 1.5804 - val_acc: 0.4451\n",
      "Epoch 7/50\n",
      "50000/50000 [==============================] - 6s 120us/step - loss: 1.4027 - acc: 0.5098 - val_loss: 1.5492 - val_acc: 0.4574\n",
      "Epoch 8/50\n",
      "50000/50000 [==============================] - 6s 122us/step - loss: 1.3698 - acc: 0.5207 - val_loss: 1.5374 - val_acc: 0.4581\n",
      "Epoch 9/50\n",
      "50000/50000 [==============================] - 6s 128us/step - loss: 1.3376 - acc: 0.5319 - val_loss: 1.5279 - val_acc: 0.4656\n",
      "Epoch 10/50\n",
      "50000/50000 [==============================] - 6s 121us/step - loss: 1.3087 - acc: 0.5425 - val_loss: 1.5137 - val_acc: 0.4700\n",
      "Epoch 11/50\n",
      "50000/50000 [==============================] - 6s 119us/step - loss: 1.2826 - acc: 0.5534 - val_loss: 1.4968 - val_acc: 0.4742\n",
      "Epoch 12/50\n",
      "50000/50000 [==============================] - 7s 145us/step - loss: 1.2532 - acc: 0.5640 - val_loss: 1.4849 - val_acc: 0.4806\n",
      "Epoch 13/50\n",
      "50000/50000 [==============================] - 6s 118us/step - loss: 1.2258 - acc: 0.5745 - val_loss: 1.4753 - val_acc: 0.4833\n",
      "Epoch 14/50\n",
      "50000/50000 [==============================] - 6s 110us/step - loss: 1.2027 - acc: 0.5845 - val_loss: 1.4906 - val_acc: 0.4804\n",
      "Epoch 15/50\n",
      "50000/50000 [==============================] - 6s 114us/step - loss: 1.1784 - acc: 0.5912 - val_loss: 1.4788 - val_acc: 0.4810\n",
      "Epoch 16/50\n",
      "50000/50000 [==============================] - 6s 115us/step - loss: 1.1552 - acc: 0.6002 - val_loss: 1.4868 - val_acc: 0.4823\n",
      "Epoch 17/50\n",
      "50000/50000 [==============================] - 7s 139us/step - loss: 1.1302 - acc: 0.6100 - val_loss: 1.4729 - val_acc: 0.4882\n",
      "Epoch 18/50\n",
      "50000/50000 [==============================] - 7s 138us/step - loss: 1.1072 - acc: 0.6194 - val_loss: 1.4693 - val_acc: 0.4878\n",
      "Epoch 19/50\n",
      "50000/50000 [==============================] - 7s 135us/step - loss: 1.0865 - acc: 0.6275 - val_loss: 1.4640 - val_acc: 0.4909\n",
      "Epoch 20/50\n",
      "50000/50000 [==============================] - 7s 135us/step - loss: 1.0641 - acc: 0.6361 - val_loss: 1.4681 - val_acc: 0.4887\n",
      "Epoch 21/50\n",
      "50000/50000 [==============================] - 7s 141us/step - loss: 1.0424 - acc: 0.6449 - val_loss: 1.4591 - val_acc: 0.4925\n",
      "Epoch 22/50\n",
      "50000/50000 [==============================] - 7s 130us/step - loss: 1.0207 - acc: 0.6517 - val_loss: 1.4612 - val_acc: 0.4967\n",
      "Epoch 23/50\n",
      "50000/50000 [==============================] - 6s 127us/step - loss: 1.0005 - acc: 0.6612 - val_loss: 1.4638 - val_acc: 0.4960\n",
      "Epoch 24/50\n",
      "50000/50000 [==============================] - 6s 120us/step - loss: 0.9780 - acc: 0.6700 - val_loss: 1.4643 - val_acc: 0.4943\n",
      "Epoch 25/50\n",
      "50000/50000 [==============================] - 6s 120us/step - loss: 0.9574 - acc: 0.6774 - val_loss: 1.4771 - val_acc: 0.4941\n",
      "Epoch 26/50\n",
      "50000/50000 [==============================] - 6s 123us/step - loss: 0.9372 - acc: 0.6861 - val_loss: 1.4718 - val_acc: 0.4946\n",
      "Epoch 27/50\n",
      "50000/50000 [==============================] - 6s 112us/step - loss: 0.9187 - acc: 0.6927 - val_loss: 1.4676 - val_acc: 0.5000\n",
      "Epoch 28/50\n",
      "50000/50000 [==============================] - 6s 117us/step - loss: 0.8968 - acc: 0.7017 - val_loss: 1.4713 - val_acc: 0.4973\n",
      "Epoch 29/50\n",
      "50000/50000 [==============================] - 7s 133us/step - loss: 0.8760 - acc: 0.7080 - val_loss: 1.4822 - val_acc: 0.5000\n",
      "Epoch 30/50\n",
      "50000/50000 [==============================] - 6s 118us/step - loss: 0.8565 - acc: 0.7171 - val_loss: 1.4841 - val_acc: 0.4978\n",
      "Epoch 31/50\n",
      "50000/50000 [==============================] - 6s 124us/step - loss: 0.8364 - acc: 0.7256 - val_loss: 1.4975 - val_acc: 0.4992\n",
      "Epoch 32/50\n",
      "50000/50000 [==============================] - 6s 123us/step - loss: 0.8166 - acc: 0.7313 - val_loss: 1.4837 - val_acc: 0.4999\n",
      "Epoch 33/50\n",
      "50000/50000 [==============================] - 6s 116us/step - loss: 0.7960 - acc: 0.7404 - val_loss: 1.5032 - val_acc: 0.5004\n",
      "Epoch 34/50\n",
      "50000/50000 [==============================] - 6s 113us/step - loss: 0.7790 - acc: 0.7490 - val_loss: 1.5065 - val_acc: 0.4935\n",
      "Epoch 35/50\n",
      "50000/50000 [==============================] - 7s 136us/step - loss: 0.7582 - acc: 0.7575 - val_loss: 1.5264 - val_acc: 0.4961\n",
      "Epoch 36/50\n",
      "50000/50000 [==============================] - 6s 118us/step - loss: 0.7383 - acc: 0.7634 - val_loss: 1.5322 - val_acc: 0.4990\n",
      "Epoch 37/50\n",
      "50000/50000 [==============================] - 6s 128us/step - loss: 0.7210 - acc: 0.7701 - val_loss: 1.5430 - val_acc: 0.4973\n",
      "Epoch 38/50\n",
      "50000/50000 [==============================] - 6s 121us/step - loss: 0.7002 - acc: 0.7779 - val_loss: 1.5513 - val_acc: 0.4939\n",
      "Epoch 00038: early stopping\n"
     ]
    }
   ],
   "source": [
    "model = build_mlp(input_shape=x_train.shape[1:])\n",
    "model.summary()\n",
    "optimizer = keras.optimizers.SGD(lr=LEARNING_RATE, nesterov=True, momentum=MOMENTUM)\n",
    "model.compile(loss=\"categorical_crossentropy\", metrics=[\"accuracy\"], optimizer=optimizer)\n",
    "\n",
    "model.fit(x_train, y_train, \n",
    "          epochs=EPOCHS, \n",
    "          batch_size=BATCH_SIZE, \n",
    "          validation_data=(x_test, y_test), \n",
    "          shuffle=True,\n",
    "          callbacks=[earlystop]\n",
    "         )\n",
    "\n",
    "# Collect results\n",
    "train_loss = model.history.history[\"loss\"]\n",
    "valid_loss = model.history.history[\"val_loss\"]\n",
    "train_acc = model.history.history[\"acc\"]\n",
    "valid_acc = model.history.history[\"val_acc\"]"
   ]
  },
  {
   "cell_type": "code",
   "execution_count": 9,
   "metadata": {},
   "outputs": [
    {
     "data": {
      "image/png": "[encoded data removed]",
      "text/plain": [
       "<Figure size 432x288 with 1 Axes>"
      ]
     },
     "metadata": {},
     "output_type": "display_data"
    },
    {
     "data": {
      "image/png": "[encoded data removed]",
      "text/plain": [
       "<Figure size 432x288 with 1 Axes>"
      ]
     },
     "metadata": {},
     "output_type": "display_data"
    }
   ],
   "source": [
    "import matplotlib.pyplot as plt\n",
    "%matplotlib inline\n",
    "\n",
    "plt.plot(range(len(train_loss)), train_loss, label=\"train loss\")\n",
    "plt.plot(range(len(valid_loss)), valid_loss, label=\"valid loss\")\n",
    "plt.legend()\n",
    "plt.title(\"Loss\")\n",
    "plt.show()\n",
    "\n",
    "plt.plot(range(len(train_acc)), train_acc, label=\"train accuracy\")\n",
    "plt.plot(range(len(valid_acc)), valid_acc, label=\"valid accuracy\")\n",
    "plt.legend()\n",
    "plt.title(\"Accuracy\")\n",
    "plt.show()"
   ]
  },
  {
   "cell_type": "code",
   "execution_count": 10,
   "metadata": {},
   "outputs": [],
   "source": [
    "# 載入 Callbacks\n",
    "\"\"\"\n",
    "# 載入 Callbacks, 並將 monitor 設定為監控 Validation Accuracy, 等待次數 10\n",
    "\"\"\"\n",
    "from keras.callbacks import EarlyStopping\n",
    "\n",
    "earlystop = EarlyStopping(monitor=\"val_acc\", \n",
    "                          patience=10, \n",
    "                          verbose=1\n",
    "                          )"
   ]
  },
  {
   "cell_type": "code",
   "execution_count": 11,
   "metadata": {},
   "outputs": [
    {
     "name": "stdout",
     "output_type": "stream",
     "text": [
      "_________________________________________________________________\n",
      "Layer (type)                 Output Shape              Param #   \n",
      "=================================================================\n",
      "input_2 (InputLayer)         (None, 3072)              0         \n",
      "_________________________________________________________________\n",
      "hidden_layer1 (Dense)        (None, 512)               1573376   \n",
      "_________________________________________________________________\n",
      "batch_normalization_4 (Batch (None, 512)               2048      \n",
      "_________________________________________________________________\n",
      "hidden_layer2 (Dense)        (None, 256)               131328    \n",
      "_________________________________________________________________\n",
      "batch_normalization_5 (Batch (None, 256)               1024      \n",
      "_________________________________________________________________\n",
      "hidden_layer3 (Dense)        (None, 128)               32896     \n",
      "_________________________________________________________________\n",
      "batch_normalization_6 (Batch (None, 128)               512       \n",
      "_________________________________________________________________\n",
      "output (Dense)               (None, 10)                1290      \n",
      "=================================================================\n",
      "Total params: 1,742,474\n",
      "Trainable params: 1,740,682\n",
      "Non-trainable params: 1,792\n",
      "_________________________________________________________________\n",
      "Train on 50000 samples, validate on 10000 samples\n",
      "Epoch 1/50\n",
      "50000/50000 [==============================] - 8s 169us/step - loss: 2.2124 - acc: 0.2663 - val_loss: 2.1624 - val_acc: 0.3029\n",
      "Epoch 2/50\n",
      "50000/50000 [==============================] - 7s 134us/step - loss: 1.7459 - acc: 0.3869 - val_loss: 1.8154 - val_acc: 0.3808\n",
      "Epoch 3/50\n",
      "50000/50000 [==============================] - 6s 118us/step - loss: 1.6201 - acc: 0.4319 - val_loss: 1.6927 - val_acc: 0.4164\n",
      "Epoch 4/50\n",
      "50000/50000 [==============================] - 6s 118us/step - loss: 1.5455 - acc: 0.4577 - val_loss: 1.6159 - val_acc: 0.4357\n",
      "Epoch 5/50\n",
      "50000/50000 [==============================] - 6s 116us/step - loss: 1.4914 - acc: 0.4754 - val_loss: 1.5899 - val_acc: 0.4465\n",
      "Epoch 6/50\n",
      "50000/50000 [==============================] - 6s 124us/step - loss: 1.4452 - acc: 0.4920 - val_loss: 1.5517 - val_acc: 0.4472\n",
      "Epoch 7/50\n",
      "50000/50000 [==============================] - 6s 121us/step - loss: 1.4045 - acc: 0.5072 - val_loss: 1.5384 - val_acc: 0.4538\n",
      "Epoch 8/50\n",
      "50000/50000 [==============================] - 6s 117us/step - loss: 1.3704 - acc: 0.5186 - val_loss: 1.5247 - val_acc: 0.4621\n",
      "Epoch 9/50\n",
      "50000/50000 [==============================] - 6s 115us/step - loss: 1.3374 - acc: 0.5333 - val_loss: 1.5057 - val_acc: 0.4668\n",
      "Epoch 10/50\n",
      "50000/50000 [==============================] - 8s 152us/step - loss: 1.3073 - acc: 0.5427 - val_loss: 1.4942 - val_acc: 0.4734\n",
      "Epoch 11/50\n",
      "50000/50000 [==============================] - 7s 138us/step - loss: 1.2789 - acc: 0.5542 - val_loss: 1.4863 - val_acc: 0.4719\n",
      "Epoch 12/50\n",
      "50000/50000 [==============================] - 6s 125us/step - loss: 1.2529 - acc: 0.5639 - val_loss: 1.4720 - val_acc: 0.4816\n",
      "Epoch 13/50\n",
      "50000/50000 [==============================] - 6s 113us/step - loss: 1.2277 - acc: 0.5736 - val_loss: 1.4602 - val_acc: 0.4830\n",
      "Epoch 14/50\n",
      "50000/50000 [==============================] - 6s 129us/step - loss: 1.2016 - acc: 0.5833 - val_loss: 1.4587 - val_acc: 0.4871\n",
      "Epoch 15/50\n",
      "50000/50000 [==============================] - 5s 99us/step - loss: 1.1777 - acc: 0.5941 - val_loss: 1.4583 - val_acc: 0.4844\n",
      "Epoch 16/50\n",
      "50000/50000 [==============================] - 5s 99us/step - loss: 1.1564 - acc: 0.6013 - val_loss: 1.4623 - val_acc: 0.4831\n",
      "Epoch 17/50\n",
      "50000/50000 [==============================] - 6s 122us/step - loss: 1.1330 - acc: 0.6106 - val_loss: 1.4460 - val_acc: 0.4911\n",
      "Epoch 18/50\n",
      "50000/50000 [==============================] - 6s 114us/step - loss: 1.1097 - acc: 0.6194 - val_loss: 1.4479 - val_acc: 0.4929\n",
      "Epoch 19/50\n",
      "50000/50000 [==============================] - 6s 120us/step - loss: 1.0887 - acc: 0.6267 - val_loss: 1.4410 - val_acc: 0.4941\n",
      "Epoch 20/50\n",
      "50000/50000 [==============================] - 6s 118us/step - loss: 1.0667 - acc: 0.6362 - val_loss: 1.4490 - val_acc: 0.4972\n",
      "Epoch 21/50\n",
      "50000/50000 [==============================] - 6s 115us/step - loss: 1.0465 - acc: 0.6438 - val_loss: 1.4467 - val_acc: 0.4967\n",
      "Epoch 22/50\n",
      "50000/50000 [==============================] - 6s 118us/step - loss: 1.0247 - acc: 0.6531 - val_loss: 1.4494 - val_acc: 0.4955\n",
      "Epoch 23/50\n",
      "50000/50000 [==============================] - 6s 122us/step - loss: 1.0029 - acc: 0.6607 - val_loss: 1.4457 - val_acc: 0.4950\n",
      "Epoch 24/50\n",
      "50000/50000 [==============================] - 6s 124us/step - loss: 0.9826 - acc: 0.6692 - val_loss: 1.4565 - val_acc: 0.4939\n",
      "Epoch 25/50\n",
      "50000/50000 [==============================] - 7s 139us/step - loss: 0.9631 - acc: 0.6764 - val_loss: 1.4534 - val_acc: 0.5006\n",
      "Epoch 26/50\n",
      "50000/50000 [==============================] - 7s 133us/step - loss: 0.9417 - acc: 0.6834 - val_loss: 1.4443 - val_acc: 0.5008\n",
      "Epoch 27/50\n",
      "50000/50000 [==============================] - 7s 143us/step - loss: 0.9239 - acc: 0.6913 - val_loss: 1.4426 - val_acc: 0.5021\n",
      "Epoch 28/50\n",
      "50000/50000 [==============================] - 6s 119us/step - loss: 0.9026 - acc: 0.6990 - val_loss: 1.4510 - val_acc: 0.4983\n",
      "Epoch 29/50\n",
      "50000/50000 [==============================] - 6s 116us/step - loss: 0.8813 - acc: 0.7076 - val_loss: 1.4411 - val_acc: 0.5041\n",
      "Epoch 30/50\n",
      "50000/50000 [==============================] - 6s 115us/step - loss: 0.8618 - acc: 0.7184 - val_loss: 1.4754 - val_acc: 0.4997\n",
      "Epoch 31/50\n",
      "50000/50000 [==============================] - 6s 120us/step - loss: 0.8427 - acc: 0.7226 - val_loss: 1.4624 - val_acc: 0.5035\n",
      "Epoch 32/50\n",
      "50000/50000 [==============================] - 6s 117us/step - loss: 0.8234 - acc: 0.7302 - val_loss: 1.4608 - val_acc: 0.5039\n",
      "Epoch 33/50\n",
      "50000/50000 [==============================] - 6s 125us/step - loss: 0.8033 - acc: 0.7382 - val_loss: 1.4779 - val_acc: 0.4996\n",
      "Epoch 34/50\n",
      "50000/50000 [==============================] - 6s 117us/step - loss: 0.7851 - acc: 0.7480 - val_loss: 1.4619 - val_acc: 0.5036\n",
      "Epoch 35/50\n",
      "50000/50000 [==============================] - 6s 118us/step - loss: 0.7651 - acc: 0.7538 - val_loss: 1.4808 - val_acc: 0.5039\n",
      "Epoch 36/50\n",
      "50000/50000 [==============================] - 6s 119us/step - loss: 0.7458 - acc: 0.7596 - val_loss: 1.5040 - val_acc: 0.4995\n",
      "Epoch 37/50\n",
      "50000/50000 [==============================] - 6s 116us/step - loss: 0.7283 - acc: 0.7691 - val_loss: 1.4991 - val_acc: 0.5041\n",
      "Epoch 38/50\n",
      "50000/50000 [==============================] - 6s 118us/step - loss: 0.7105 - acc: 0.7762 - val_loss: 1.5145 - val_acc: 0.5014\n",
      "Epoch 39/50\n",
      "50000/50000 [==============================] - 6s 122us/step - loss: 0.6910 - acc: 0.7828 - val_loss: 1.5323 - val_acc: 0.4979\n",
      "Epoch 40/50\n",
      "50000/50000 [==============================] - 6s 120us/step - loss: 0.6736 - acc: 0.7908 - val_loss: 1.5253 - val_acc: 0.4968\n",
      "Epoch 41/50\n",
      "50000/50000 [==============================] - 6s 116us/step - loss: 0.6556 - acc: 0.7971 - val_loss: 1.5457 - val_acc: 0.5009\n",
      "Epoch 42/50\n",
      "50000/50000 [==============================] - 6s 122us/step - loss: 0.6360 - acc: 0.8055 - val_loss: 1.5432 - val_acc: 0.5072\n",
      "Epoch 43/50\n",
      "50000/50000 [==============================] - 6s 122us/step - loss: 0.6204 - acc: 0.8127 - val_loss: 1.5622 - val_acc: 0.5013\n",
      "Epoch 44/50\n",
      "50000/50000 [==============================] - 6s 126us/step - loss: 0.6031 - acc: 0.8178 - val_loss: 1.5571 - val_acc: 0.5012\n",
      "Epoch 45/50\n",
      "50000/50000 [==============================] - 6s 121us/step - loss: 0.5846 - acc: 0.8259 - val_loss: 1.5861 - val_acc: 0.5015\n",
      "Epoch 46/50\n",
      "50000/50000 [==============================] - 6s 115us/step - loss: 0.5666 - acc: 0.8328 - val_loss: 1.5920 - val_acc: 0.5045\n",
      "Epoch 47/50\n",
      "50000/50000 [==============================] - 6s 118us/step - loss: 0.5502 - acc: 0.8388 - val_loss: 1.5884 - val_acc: 0.5022\n",
      "Epoch 48/50\n",
      "50000/50000 [==============================] - 6s 125us/step - loss: 0.5342 - acc: 0.8456 - val_loss: 1.6087 - val_acc: 0.5009\n",
      "Epoch 49/50\n"
     ]
    },
    {
     "name": "stdout",
     "output_type": "stream",
     "text": [
      "50000/50000 [==============================] - 8s 152us/step - loss: 0.5190 - acc: 0.8512 - val_loss: 1.6239 - val_acc: 0.4986\n",
      "Epoch 50/50\n",
      "50000/50000 [==============================] - 6s 119us/step - loss: 0.5018 - acc: 0.8586 - val_loss: 1.6373 - val_acc: 0.4987\n"
     ]
    }
   ],
   "source": [
    "model = build_mlp(input_shape=x_train.shape[1:])\n",
    "model.summary()\n",
    "optimizer = keras.optimizers.SGD(lr=LEARNING_RATE, nesterov=True, momentum=MOMENTUM)\n",
    "model.compile(loss=\"categorical_crossentropy\", metrics=[\"accuracy\"], optimizer=optimizer)\n",
    "\n",
    "model.fit(x_train, y_train, \n",
    "          epochs=EPOCHS, \n",
    "          batch_size=BATCH_SIZE, \n",
    "          validation_data=(x_test, y_test), \n",
    "          shuffle=True,\n",
    "          callbacks=[earlystop]\n",
    "         )\n",
    "\n",
    "# Collect results\n",
    "train_loss = model.history.history[\"loss\"]\n",
    "valid_loss = model.history.history[\"val_loss\"]\n",
    "train_acc = model.history.history[\"acc\"]\n",
    "valid_acc = model.history.history[\"val_acc\"]"
   ]
  },
  {
   "cell_type": "code",
   "execution_count": 12,
   "metadata": {},
   "outputs": [
    {
     "data": {
      "image/png": "[encoded data removed]",
      "text/plain": [
       "<Figure size 432x288 with 1 Axes>"
      ]
     },
     "metadata": {},
     "output_type": "display_data"
    },
    {
     "data": {
      "image/png": "[encoded data removed]",
      "text/plain": [
       "<Figure size 432x288 with 1 Axes>"
      ]
     },
     "metadata": {},
     "output_type": "display_data"
    }
   ],
   "source": [
    "import matplotlib.pyplot as plt\n",
    "%matplotlib inline\n",
    "\n",
    "plt.plot(range(len(train_loss)), train_loss, label=\"train loss\")\n",
    "plt.plot(range(len(valid_loss)), valid_loss, label=\"valid loss\")\n",
    "plt.legend()\n",
    "plt.title(\"Loss\")\n",
    "plt.show()\n",
    "\n",
    "plt.plot(range(len(train_acc)), train_acc, label=\"train accuracy\")\n",
    "plt.plot(range(len(valid_acc)), valid_acc, label=\"valid accuracy\")\n",
    "plt.legend()\n",
    "plt.title(\"Accuracy\")\n",
    "plt.show()"
   ]
  }
 ],
 "metadata": {
  "kernelspec": {
   "display_name": "Python 3",
   "language": "python",
   "name": "python3"
  },
  "language_info": {
   "codemirror_mode": {
    "name": "ipython",
    "version": 3
   },
   "file_extension": ".py",
   "mimetype": "text/x-python",
   "name": "python",
   "nbconvert_exporter": "python",
   "pygments_lexer": "ipython3",
   "version": "3.6.4"
  },
  "varInspector": {
   "cols": {
    "lenName": 16,
    "lenType": 16,
    "lenVar": 40
   },
   "kernels_config": {
    "python": {
     "delete_cmd_postfix": "",
     "delete_cmd_prefix": "del ",
     "library": "var_list.py",
     "varRefreshCmd": "print(var_dic_list())"
    },
    "r": {
     "delete_cmd_postfix": ") ",
     "delete_cmd_prefix": "rm(",
     "library": "var_list.r",
     "varRefreshCmd": "cat(var_dic_list()) "
    }
   },
   "types_to_exclude": [
    "module",
    "function",
    "builtin_function_or_method",
    "instance",
    "_Feature"
   ],
   "window_display": false
  }
 },
 "nbformat": 4,
 "nbformat_minor": 2
}
