{
 "cells": [
  {
   "cell_type": "markdown",
   "metadata": {},
   "source": [
    "# D35-1\n",
    "* **搜尋有關 multi-label 的案例問題**\n",
    "* **下圖是電影 \"奇異博士\" 的分類。可以看到同時有 \"Action\", \"Adventure\", \"Fantasy\" 的類別存在，代表這是個多標籤的問題** \n",
    "* **請搜尋目標為多標籤問題 (Multi-label) 的機器學習案例，了解其資料來源、目標以及評估指標為何**"
   ]
  },
  {
   "cell_type": "markdown",
   "metadata": {},
   "source": [
    "![image](https://cdn-images-1.medium.com/max/1000/1*r0gYXMSQf5VhdMyl2bRDyg.png)"
   ]
  },
  {
   "cell_type": "markdown",
   "metadata": {},
   "source": [
    "## 電子商務之推薦、搜索、廣告\n",
    "\n",
    "**1. 資料來源**\n",
    " * 消費者歷史消費、瀏覽紀錄以及未來消費、瀏覽紀錄。\n",
    "\n",
    "**2. 目標**\n",
    " * 提高商品依照關鍵字的排序效益\n",
    " * 準確預估每個商品的GMV轉化率或者點擊率\n",
    " * 最大化利用流量，從而收益最大\n",
    "\n",
    "**3. 評估指標**\n",
    " * 消費者實際消費、瀏覽結果\n"
   ]
  }
 ],
 "metadata": {
  "kernelspec": {
   "display_name": "Python 3",
   "language": "python",
   "name": "python3"
  },
  "language_info": {
   "codemirror_mode": {
    "name": "ipython",
    "version": 3
   },
   "file_extension": ".py",
   "mimetype": "text/x-python",
   "name": "python",
   "nbconvert_exporter": "python",
   "pygments_lexer": "ipython3",
   "version": "3.6.4"
  }
 },
 "nbformat": 4,
 "nbformat_minor": 2
}
