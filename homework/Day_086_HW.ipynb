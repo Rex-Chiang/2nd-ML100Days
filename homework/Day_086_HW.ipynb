{
 "cells": [
  {
   "cell_type": "markdown",
   "metadata": {},
   "source": [
    "# D86-1\n",
    "* **比較 save_best_only 與否的差異**\n",
    "* **請僅存入將 save_weights_only 設定為 True, 並嘗試 reset ipynb 並將模型與權重重新建回並預測 x_test**"
   ]
  },
  {
   "cell_type": "code",
   "execution_count": 1,
   "metadata": {},
   "outputs": [
    {
     "name": "stderr",
     "output_type": "stream",
     "text": [
      "/home/rex/anaconda3/lib/python3.6/site-packages/h5py/__init__.py:36: FutureWarning: Conversion of the second argument of issubdtype from `float` to `np.floating` is deprecated. In future, it will be treated as `np.float64 == np.dtype(float).type`.\n",
      "  from ._conv import register_converters as _register_converters\n",
      "Using TensorFlow backend.\n"
     ]
    }
   ],
   "source": [
    "import os\n",
    "import keras\n",
    "\n",
    "# Disable GPU\n",
    "os.environ[\"CUDA_VISIBLE_DEVICES\"] = \"1\""
   ]
  },
  {
   "cell_type": "code",
   "execution_count": 2,
   "metadata": {},
   "outputs": [],
   "source": [
    "train, test = keras.datasets.cifar10.load_data()"
   ]
  },
  {
   "cell_type": "code",
   "execution_count": 3,
   "metadata": {},
   "outputs": [],
   "source": [
    "## 資料前處理\n",
    "def preproc_x(x, flatten=True):\n",
    "    x = x / 255.\n",
    "    if flatten:\n",
    "        x = x.reshape((len(x), -1))\n",
    "    return x\n",
    "\n",
    "def preproc_y(y, num_classes=10):\n",
    "    if y.shape[-1] == 1:\n",
    "        y = keras.utils.to_categorical(y, num_classes)\n",
    "    return y    "
   ]
  },
  {
   "cell_type": "code",
   "execution_count": 4,
   "metadata": {},
   "outputs": [],
   "source": [
    "x_train, y_train = train\n",
    "x_test, y_test = test\n",
    "\n",
    "# Preproc the inputs\n",
    "x_train = preproc_x(x_train)\n",
    "x_test = preproc_x(x_test)\n",
    "\n",
    "# Preprc the outputs\n",
    "y_train = preproc_y(y_train)\n",
    "y_test = preproc_y(y_test)"
   ]
  },
  {
   "cell_type": "code",
   "execution_count": 5,
   "metadata": {},
   "outputs": [],
   "source": [
    "from keras.layers import BatchNormalization\n",
    "\n",
    "\"\"\"\n",
    "建立神經網路，並加入 BN layer\n",
    "\"\"\"\n",
    "def build_mlp(input_shape, output_units=10, num_neurons=[512, 256, 128]):\n",
    "    input_layer = keras.layers.Input(input_shape)\n",
    "    \n",
    "    for i, n_units in enumerate(num_neurons):\n",
    "        if i == 0:\n",
    "            x = keras.layers.Dense(units=n_units, \n",
    "                                   activation=\"relu\", \n",
    "                                   name=\"hidden_layer\"+str(i+1))(input_layer)\n",
    "            x = BatchNormalization()(x)\n",
    "        else:\n",
    "            x = keras.layers.Dense(units=n_units, \n",
    "                                   activation=\"relu\", \n",
    "                                   name=\"hidden_layer\"+str(i+1))(x)\n",
    "            x = BatchNormalization()(x)\n",
    "    \n",
    "    out = keras.layers.Dense(units=output_units, activation=\"softmax\", name=\"output\")(x)\n",
    "    \n",
    "    model = keras.models.Model(inputs=[input_layer], outputs=[out])\n",
    "    return model"
   ]
  },
  {
   "cell_type": "code",
   "execution_count": 6,
   "metadata": {},
   "outputs": [],
   "source": [
    "## 超參數設定\n",
    "LEARNING_RATE = 1e-3\n",
    "EPOCHS = 50\n",
    "BATCH_SIZE = 1024\n",
    "MOMENTUM = 0.95"
   ]
  },
  {
   "cell_type": "code",
   "execution_count": 7,
   "metadata": {},
   "outputs": [],
   "source": [
    "\"\"\"\n",
    "# 載入 Callbacks, 並將監控目標設為 validation loss, 且只存最佳參數時的模型\n",
    "\"\"\"\n",
    "from keras.callbacks import ModelCheckpoint\n",
    "\n",
    "model_ckpt = ModelCheckpoint(filepath=\"./tmp.h5\", \n",
    "                             monitor=\"val_loss\", \n",
    "                             save_best_only=False)"
   ]
  },
  {
   "cell_type": "code",
   "execution_count": 8,
   "metadata": {},
   "outputs": [
    {
     "name": "stderr",
     "output_type": "stream",
     "text": [
      "WARNING: Logging before flag parsing goes to stderr.\n",
      "W0806 16:21:16.735744 140257102391040 deprecation_wrapper.py:119] From /home/rex/anaconda3/lib/python3.6/site-packages/keras/backend/tensorflow_backend.py:74: The name tf.get_default_graph is deprecated. Please use tf.compat.v1.get_default_graph instead.\n",
      "\n",
      "W0806 16:21:16.765262 140257102391040 deprecation_wrapper.py:119] From /home/rex/anaconda3/lib/python3.6/site-packages/keras/backend/tensorflow_backend.py:517: The name tf.placeholder is deprecated. Please use tf.compat.v1.placeholder instead.\n",
      "\n",
      "W0806 16:21:16.769963 140257102391040 deprecation_wrapper.py:119] From /home/rex/anaconda3/lib/python3.6/site-packages/keras/backend/tensorflow_backend.py:4138: The name tf.random_uniform is deprecated. Please use tf.random.uniform instead.\n",
      "\n",
      "W0806 16:21:17.005538 140257102391040 deprecation_wrapper.py:119] From /home/rex/anaconda3/lib/python3.6/site-packages/keras/backend/tensorflow_backend.py:133: The name tf.placeholder_with_default is deprecated. Please use tf.compat.v1.placeholder_with_default instead.\n",
      "\n",
      "W0806 16:21:17.718724 140257102391040 deprecation_wrapper.py:119] From /home/rex/anaconda3/lib/python3.6/site-packages/keras/optimizers.py:790: The name tf.train.Optimizer is deprecated. Please use tf.compat.v1.train.Optimizer instead.\n",
      "\n",
      "W0806 16:21:17.738736 140257102391040 deprecation_wrapper.py:119] From /home/rex/anaconda3/lib/python3.6/site-packages/keras/backend/tensorflow_backend.py:3295: The name tf.log is deprecated. Please use tf.math.log instead.\n",
      "\n"
     ]
    },
    {
     "name": "stdout",
     "output_type": "stream",
     "text": [
      "_________________________________________________________________\n",
      "Layer (type)                 Output Shape              Param #   \n",
      "=================================================================\n",
      "input_1 (InputLayer)         (None, 3072)              0         \n",
      "_________________________________________________________________\n",
      "hidden_layer1 (Dense)        (None, 512)               1573376   \n",
      "_________________________________________________________________\n",
      "batch_normalization_1 (Batch (None, 512)               2048      \n",
      "_________________________________________________________________\n",
      "hidden_layer2 (Dense)        (None, 256)               131328    \n",
      "_________________________________________________________________\n",
      "batch_normalization_2 (Batch (None, 256)               1024      \n",
      "_________________________________________________________________\n",
      "hidden_layer3 (Dense)        (None, 128)               32896     \n",
      "_________________________________________________________________\n",
      "batch_normalization_3 (Batch (None, 128)               512       \n",
      "_________________________________________________________________\n",
      "output (Dense)               (None, 10)                1290      \n",
      "=================================================================\n",
      "Total params: 1,742,474\n",
      "Trainable params: 1,740,682\n",
      "Non-trainable params: 1,792\n",
      "_________________________________________________________________\n"
     ]
    },
    {
     "name": "stderr",
     "output_type": "stream",
     "text": [
      "W0806 16:21:18.068511 140257102391040 deprecation.py:323] From /home/rex/anaconda3/lib/python3.6/site-packages/tensorflow/python/ops/math_grad.py:1250: add_dispatch_support.<locals>.wrapper (from tensorflow.python.ops.array_ops) is deprecated and will be removed in a future version.\n",
      "Instructions for updating:\n",
      "Use tf.where in 2.0, which has the same broadcast rule as np.where\n"
     ]
    },
    {
     "name": "stdout",
     "output_type": "stream",
     "text": [
      "Train on 50000 samples, validate on 10000 samples\n",
      "Epoch 1/50\n",
      "50000/50000 [==============================] - 8s 159us/step - loss: 2.2463 - acc: 0.2669 - val_loss: 2.1579 - val_acc: 0.3088\n",
      "Epoch 2/50\n",
      "50000/50000 [==============================] - 7s 136us/step - loss: 1.7450 - acc: 0.3929 - val_loss: 1.8089 - val_acc: 0.3852\n",
      "Epoch 3/50\n",
      "50000/50000 [==============================] - 6s 114us/step - loss: 1.6193 - acc: 0.4295 - val_loss: 1.6828 - val_acc: 0.4131\n",
      "Epoch 4/50\n",
      "50000/50000 [==============================] - 6s 120us/step - loss: 1.5437 - acc: 0.4586 - val_loss: 1.6190 - val_acc: 0.4377\n",
      "Epoch 5/50\n",
      "50000/50000 [==============================] - 6s 122us/step - loss: 1.4900 - acc: 0.4774 - val_loss: 1.5965 - val_acc: 0.4458\n",
      "Epoch 6/50\n",
      "50000/50000 [==============================] - 6s 119us/step - loss: 1.4450 - acc: 0.4935 - val_loss: 1.5622 - val_acc: 0.4505\n",
      "Epoch 7/50\n",
      "50000/50000 [==============================] - 6s 113us/step - loss: 1.4060 - acc: 0.5077 - val_loss: 1.5644 - val_acc: 0.4544\n",
      "Epoch 8/50\n",
      "50000/50000 [==============================] - 6s 115us/step - loss: 1.3690 - acc: 0.5218 - val_loss: 1.5223 - val_acc: 0.4657\n",
      "Epoch 9/50\n",
      "50000/50000 [==============================] - 6s 116us/step - loss: 1.3357 - acc: 0.5326 - val_loss: 1.5159 - val_acc: 0.4683\n",
      "Epoch 10/50\n",
      "50000/50000 [==============================] - 6s 114us/step - loss: 1.3064 - acc: 0.5456 - val_loss: 1.5046 - val_acc: 0.4708\n",
      "Epoch 11/50\n",
      "50000/50000 [==============================] - 5s 106us/step - loss: 1.2763 - acc: 0.5554 - val_loss: 1.4917 - val_acc: 0.4747\n",
      "Epoch 12/50\n",
      "50000/50000 [==============================] - 5s 91us/step - loss: 1.2508 - acc: 0.5642 - val_loss: 1.4823 - val_acc: 0.4813\n",
      "Epoch 13/50\n",
      "50000/50000 [==============================] - 6s 124us/step - loss: 1.2231 - acc: 0.5746 - val_loss: 1.4646 - val_acc: 0.4901\n",
      "Epoch 14/50\n",
      "50000/50000 [==============================] - 6s 119us/step - loss: 1.1964 - acc: 0.5842 - val_loss: 1.4680 - val_acc: 0.4840\n",
      "Epoch 15/50\n",
      "50000/50000 [==============================] - 6s 113us/step - loss: 1.1731 - acc: 0.5937 - val_loss: 1.4684 - val_acc: 0.4877\n",
      "Epoch 16/50\n",
      "50000/50000 [==============================] - 6s 126us/step - loss: 1.1479 - acc: 0.6022 - val_loss: 1.4574 - val_acc: 0.4878\n",
      "Epoch 17/50\n",
      "50000/50000 [==============================] - 6s 128us/step - loss: 1.1241 - acc: 0.6134 - val_loss: 1.4651 - val_acc: 0.4925\n",
      "Epoch 18/50\n",
      "50000/50000 [==============================] - 6s 119us/step - loss: 1.1049 - acc: 0.6197 - val_loss: 1.4527 - val_acc: 0.4939\n",
      "Epoch 19/50\n",
      "50000/50000 [==============================] - 6s 125us/step - loss: 1.0797 - acc: 0.6282 - val_loss: 1.4554 - val_acc: 0.4980\n",
      "Epoch 20/50\n",
      "50000/50000 [==============================] - 7s 131us/step - loss: 1.0595 - acc: 0.6381 - val_loss: 1.4642 - val_acc: 0.4898\n",
      "Epoch 21/50\n",
      "50000/50000 [==============================] - 6s 124us/step - loss: 1.0378 - acc: 0.6473 - val_loss: 1.4560 - val_acc: 0.4963\n",
      "Epoch 22/50\n",
      "50000/50000 [==============================] - 6s 125us/step - loss: 1.0173 - acc: 0.6538 - val_loss: 1.4495 - val_acc: 0.4985\n",
      "Epoch 23/50\n",
      "50000/50000 [==============================] - 6s 119us/step - loss: 0.9936 - acc: 0.6611 - val_loss: 1.4678 - val_acc: 0.4924\n",
      "Epoch 24/50\n",
      "50000/50000 [==============================] - 6s 125us/step - loss: 0.9734 - acc: 0.6715 - val_loss: 1.4716 - val_acc: 0.4942\n",
      "Epoch 25/50\n",
      "50000/50000 [==============================] - 6s 123us/step - loss: 0.9538 - acc: 0.6781 - val_loss: 1.4591 - val_acc: 0.4988\n",
      "Epoch 26/50\n",
      "50000/50000 [==============================] - 6s 127us/step - loss: 0.9318 - acc: 0.6863 - val_loss: 1.4607 - val_acc: 0.5004\n",
      "Epoch 27/50\n",
      "50000/50000 [==============================] - 6s 121us/step - loss: 0.9120 - acc: 0.6942 - val_loss: 1.4693 - val_acc: 0.5008\n",
      "Epoch 28/50\n",
      "50000/50000 [==============================] - 6s 122us/step - loss: 0.8919 - acc: 0.7010 - val_loss: 1.4695 - val_acc: 0.5024\n",
      "Epoch 29/50\n",
      "50000/50000 [==============================] - 6s 124us/step - loss: 0.8708 - acc: 0.7088 - val_loss: 1.4795 - val_acc: 0.4983\n",
      "Epoch 30/50\n",
      "50000/50000 [==============================] - 6s 115us/step - loss: 0.8500 - acc: 0.7200 - val_loss: 1.4838 - val_acc: 0.5024\n",
      "Epoch 31/50\n",
      "50000/50000 [==============================] - 7s 132us/step - loss: 0.8321 - acc: 0.7243 - val_loss: 1.5044 - val_acc: 0.4970\n",
      "Epoch 32/50\n",
      "50000/50000 [==============================] - 6s 125us/step - loss: 0.8124 - acc: 0.7343 - val_loss: 1.4936 - val_acc: 0.5001\n",
      "Epoch 33/50\n",
      "50000/50000 [==============================] - 6s 129us/step - loss: 0.7920 - acc: 0.7409 - val_loss: 1.4881 - val_acc: 0.5011\n",
      "Epoch 34/50\n",
      "50000/50000 [==============================] - 6s 122us/step - loss: 0.7744 - acc: 0.7485 - val_loss: 1.5126 - val_acc: 0.4983\n",
      "Epoch 35/50\n",
      "50000/50000 [==============================] - 6s 124us/step - loss: 0.7542 - acc: 0.7563 - val_loss: 1.5140 - val_acc: 0.4976\n",
      "Epoch 36/50\n",
      "50000/50000 [==============================] - 6s 124us/step - loss: 0.7361 - acc: 0.7641 - val_loss: 1.5085 - val_acc: 0.5029\n",
      "Epoch 37/50\n",
      "50000/50000 [==============================] - 6s 126us/step - loss: 0.7175 - acc: 0.7701 - val_loss: 1.5248 - val_acc: 0.5046\n",
      "Epoch 38/50\n",
      "50000/50000 [==============================] - 6s 115us/step - loss: 0.6992 - acc: 0.7781 - val_loss: 1.5432 - val_acc: 0.4940\n",
      "Epoch 39/50\n",
      "50000/50000 [==============================] - 6s 128us/step - loss: 0.6827 - acc: 0.7844 - val_loss: 1.5410 - val_acc: 0.5018\n",
      "Epoch 40/50\n",
      "50000/50000 [==============================] - 7s 133us/step - loss: 0.6634 - acc: 0.7927 - val_loss: 1.5454 - val_acc: 0.5040\n",
      "Epoch 41/50\n",
      "50000/50000 [==============================] - 6s 127us/step - loss: 0.6453 - acc: 0.7984 - val_loss: 1.5840 - val_acc: 0.4953\n",
      "Epoch 42/50\n",
      "50000/50000 [==============================] - 6s 119us/step - loss: 0.6273 - acc: 0.8060 - val_loss: 1.5647 - val_acc: 0.5046\n",
      "Epoch 43/50\n",
      "50000/50000 [==============================] - 6s 123us/step - loss: 0.6108 - acc: 0.8139 - val_loss: 1.5856 - val_acc: 0.4990\n",
      "Epoch 44/50\n",
      "50000/50000 [==============================] - 6s 125us/step - loss: 0.5915 - acc: 0.8220 - val_loss: 1.6029 - val_acc: 0.5020\n",
      "Epoch 45/50\n",
      "50000/50000 [==============================] - 6s 118us/step - loss: 0.5751 - acc: 0.8282 - val_loss: 1.5991 - val_acc: 0.4951\n",
      "Epoch 46/50\n",
      "50000/50000 [==============================] - 6s 128us/step - loss: 0.5581 - acc: 0.8349 - val_loss: 1.6226 - val_acc: 0.4972\n",
      "Epoch 47/50\n",
      "50000/50000 [==============================] - 7s 131us/step - loss: 0.5421 - acc: 0.8406 - val_loss: 1.6247 - val_acc: 0.4986\n",
      "Epoch 48/50\n",
      "50000/50000 [==============================] - 6s 127us/step - loss: 0.5243 - acc: 0.8482 - val_loss: 1.6577 - val_acc: 0.4957\n",
      "Epoch 49/50\n",
      "50000/50000 [==============================] - 6s 121us/step - loss: 0.5070 - acc: 0.8561 - val_loss: 1.6556 - val_acc: 0.5015\n",
      "Epoch 50/50\n",
      "50000/50000 [==============================] - 6s 122us/step - loss: 0.4906 - acc: 0.8616 - val_loss: 1.6797 - val_acc: 0.4934\n",
      "10000/10000 [==============================] - 2s 212us/step\n"
     ]
    }
   ],
   "source": [
    "model = build_mlp(input_shape=x_train.shape[1:])\n",
    "model.summary()\n",
    "optimizer = keras.optimizers.SGD(lr=LEARNING_RATE, nesterov=True, momentum=MOMENTUM)\n",
    "model.compile(loss=\"categorical_crossentropy\", metrics=[\"accuracy\"], optimizer=optimizer)\n",
    "\n",
    "model.fit(x_train, y_train, \n",
    "          epochs=EPOCHS, \n",
    "          batch_size=BATCH_SIZE, \n",
    "          validation_data=(x_test, y_test), \n",
    "          shuffle=True,\n",
    "          callbacks=[model_ckpt]\n",
    "         )\n",
    "\n",
    "# Collect results\n",
    "train_loss = model.history.history[\"loss\"]\n",
    "valid_loss = model.history.history[\"val_loss\"]\n",
    "train_acc = model.history.history[\"acc\"]\n",
    "valid_acc = model.history.history[\"val_acc\"]\n",
    "\n",
    "# Load back\n",
    "model = keras.models.load_model(\"./tmp.h5\")\n",
    "loss_loadback, acc_loadback = model.evaluate(x_test, y_test)"
   ]
  },
  {
   "cell_type": "code",
   "execution_count": 9,
   "metadata": {
    "scrolled": true
   },
   "outputs": [
    {
     "data": {
      "image/png": "[encoded data removed]",
      "text/plain": [
       "<Figure size 432x288 with 1 Axes>"
      ]
     },
     "metadata": {},
     "output_type": "display_data"
    },
    {
     "data": {
      "image/png": "[encoded data removed]",
      "text/plain": [
       "<Figure size 432x288 with 1 Axes>"
      ]
     },
     "metadata": {},
     "output_type": "display_data"
    }
   ],
   "source": [
    "import matplotlib.pyplot as plt\n",
    "%matplotlib inline\n",
    "\n",
    "plt.plot(range(len(train_loss)), train_loss, label=\"train loss\")\n",
    "plt.plot(range(len(valid_loss)), valid_loss, label=\"valid loss\")\n",
    "plt.hlines(y=loss_loadback, xmin=0, xmax=len(train_loss), colors='r', linestyles='--')\n",
    "plt.legend()\n",
    "plt.title(\"Loss\")\n",
    "plt.show()\n",
    "\n",
    "plt.plot(range(len(train_acc)), train_acc, label=\"train accuracy\")\n",
    "plt.plot(range(len(valid_acc)), valid_acc, label=\"valid accuracy\")\n",
    "plt.hlines(y=acc_loadback, xmin=0, xmax=len(train_loss), colors='r', linestyles='--')\n",
    "plt.legend()\n",
    "plt.title(\"Accuracy\")\n",
    "plt.show()"
   ]
  },
  {
   "cell_type": "code",
   "execution_count": 25,
   "metadata": {},
   "outputs": [],
   "source": [
    "\"\"\"\n",
    "# 載入 Callbacks, 並將監控目標設為 validation loss, 且只存最佳參數時的模型\n",
    "\"\"\"\n",
    "from keras.callbacks import ModelCheckpoint\n",
    "\n",
    "model_ckpt = ModelCheckpoint(filepath=\"./tmp.h5\", \n",
    "                             monitor=\"val_loss\", \n",
    "                             save_best_only=True,\n",
    "                             save_weights_only=True)"
   ]
  },
  {
   "cell_type": "code",
   "execution_count": 27,
   "metadata": {},
   "outputs": [
    {
     "name": "stdout",
     "output_type": "stream",
     "text": [
      "_________________________________________________________________\n",
      "Layer (type)                 Output Shape              Param #   \n",
      "=================================================================\n",
      "input_13 (InputLayer)        (None, 3072)              0         \n",
      "_________________________________________________________________\n",
      "hidden_layer1 (Dense)        (None, 512)               1573376   \n",
      "_________________________________________________________________\n",
      "batch_normalization_37 (Batc (None, 512)               2048      \n",
      "_________________________________________________________________\n",
      "hidden_layer2 (Dense)        (None, 256)               131328    \n",
      "_________________________________________________________________\n",
      "batch_normalization_38 (Batc (None, 256)               1024      \n",
      "_________________________________________________________________\n",
      "hidden_layer3 (Dense)        (None, 128)               32896     \n",
      "_________________________________________________________________\n",
      "batch_normalization_39 (Batc (None, 128)               512       \n",
      "_________________________________________________________________\n",
      "output (Dense)               (None, 10)                1290      \n",
      "=================================================================\n",
      "Total params: 1,742,474\n",
      "Trainable params: 1,740,682\n",
      "Non-trainable params: 1,792\n",
      "_________________________________________________________________\n",
      "Train on 50000 samples, validate on 10000 samples\n",
      "Epoch 1/50\n",
      "50000/50000 [==============================] - 5s 106us/step - loss: 2.2113 - acc: 0.2652 - val_loss: 2.0939 - val_acc: 0.3078\n",
      "Epoch 2/50\n",
      "50000/50000 [==============================] - 3s 63us/step - loss: 1.7455 - acc: 0.3924 - val_loss: 1.8097 - val_acc: 0.3775\n",
      "Epoch 3/50\n",
      "50000/50000 [==============================] - 3s 67us/step - loss: 1.6170 - acc: 0.4347 - val_loss: 1.6994 - val_acc: 0.4176\n",
      "Epoch 4/50\n",
      "50000/50000 [==============================] - 4s 71us/step - loss: 1.5439 - acc: 0.4608 - val_loss: 1.6253 - val_acc: 0.4333\n",
      "Epoch 5/50\n",
      "50000/50000 [==============================] - 4s 72us/step - loss: 1.4887 - acc: 0.4828 - val_loss: 1.5961 - val_acc: 0.4392\n",
      "Epoch 6/50\n",
      "50000/50000 [==============================] - 4s 73us/step - loss: 1.4429 - acc: 0.4972 - val_loss: 1.5890 - val_acc: 0.4407\n",
      "Epoch 7/50\n",
      "50000/50000 [==============================] - 4s 72us/step - loss: 1.4030 - acc: 0.5128 - val_loss: 1.5370 - val_acc: 0.4613\n",
      "Epoch 8/50\n",
      "50000/50000 [==============================] - 4s 73us/step - loss: 1.3660 - acc: 0.5239 - val_loss: 1.5557 - val_acc: 0.4526\n",
      "Epoch 9/50\n",
      "50000/50000 [==============================] - 4s 73us/step - loss: 1.3332 - acc: 0.5372 - val_loss: 1.5156 - val_acc: 0.4731\n",
      "Epoch 10/50\n",
      "50000/50000 [==============================] - 4s 73us/step - loss: 1.3044 - acc: 0.5464 - val_loss: 1.4970 - val_acc: 0.4747\n",
      "Epoch 11/50\n",
      "50000/50000 [==============================] - 4s 74us/step - loss: 1.2770 - acc: 0.5543 - val_loss: 1.4829 - val_acc: 0.4787\n",
      "Epoch 12/50\n",
      "50000/50000 [==============================] - 3s 70us/step - loss: 1.2483 - acc: 0.5678 - val_loss: 1.4892 - val_acc: 0.4793\n",
      "Epoch 13/50\n",
      "50000/50000 [==============================] - 4s 74us/step - loss: 1.2217 - acc: 0.5758 - val_loss: 1.4662 - val_acc: 0.4892\n",
      "Epoch 14/50\n",
      "50000/50000 [==============================] - 4s 81us/step - loss: 1.1980 - acc: 0.5862 - val_loss: 1.4820 - val_acc: 0.4814\n",
      "Epoch 15/50\n",
      "50000/50000 [==============================] - 4s 72us/step - loss: 1.1730 - acc: 0.5943 - val_loss: 1.4657 - val_acc: 0.4854\n",
      "Epoch 16/50\n",
      "50000/50000 [==============================] - 3s 67us/step - loss: 1.1490 - acc: 0.6037 - val_loss: 1.4726 - val_acc: 0.4817\n",
      "Epoch 17/50\n",
      "50000/50000 [==============================] - 3s 64us/step - loss: 1.1262 - acc: 0.6117 - val_loss: 1.4584 - val_acc: 0.4891\n",
      "Epoch 18/50\n",
      "50000/50000 [==============================] - 3s 68us/step - loss: 1.1030 - acc: 0.6211 - val_loss: 1.4538 - val_acc: 0.4939\n",
      "Epoch 19/50\n",
      "50000/50000 [==============================] - 3s 65us/step - loss: 1.0813 - acc: 0.6303 - val_loss: 1.4619 - val_acc: 0.4862\n",
      "Epoch 20/50\n",
      "50000/50000 [==============================] - 3s 66us/step - loss: 1.0587 - acc: 0.6398 - val_loss: 1.4452 - val_acc: 0.4983\n",
      "Epoch 21/50\n",
      "50000/50000 [==============================] - 3s 65us/step - loss: 1.0372 - acc: 0.6467 - val_loss: 1.4515 - val_acc: 0.4933\n",
      "Epoch 22/50\n",
      "50000/50000 [==============================] - 3s 66us/step - loss: 1.0151 - acc: 0.6547 - val_loss: 1.4435 - val_acc: 0.4982\n",
      "Epoch 23/50\n",
      "50000/50000 [==============================] - 3s 66us/step - loss: 0.9932 - acc: 0.6637 - val_loss: 1.4477 - val_acc: 0.4988\n",
      "Epoch 24/50\n",
      "50000/50000 [==============================] - 3s 64us/step - loss: 0.9734 - acc: 0.6711 - val_loss: 1.4527 - val_acc: 0.4987\n",
      "Epoch 25/50\n",
      "50000/50000 [==============================] - 3s 68us/step - loss: 0.9522 - acc: 0.6798 - val_loss: 1.4553 - val_acc: 0.4949\n",
      "Epoch 26/50\n",
      "50000/50000 [==============================] - 3s 69us/step - loss: 0.9323 - acc: 0.6879 - val_loss: 1.4725 - val_acc: 0.4980\n",
      "Epoch 27/50\n",
      "50000/50000 [==============================] - 3s 70us/step - loss: 0.9126 - acc: 0.6971 - val_loss: 1.4539 - val_acc: 0.4993\n",
      "Epoch 28/50\n",
      "50000/50000 [==============================] - 4s 75us/step - loss: 0.8940 - acc: 0.7027 - val_loss: 1.4681 - val_acc: 0.5013\n",
      "Epoch 29/50\n",
      "50000/50000 [==============================] - 4s 76us/step - loss: 0.8740 - acc: 0.7101 - val_loss: 1.4696 - val_acc: 0.4988\n",
      "Epoch 30/50\n",
      "50000/50000 [==============================] - 3s 67us/step - loss: 0.8524 - acc: 0.7191 - val_loss: 1.4678 - val_acc: 0.4995\n",
      "Epoch 31/50\n",
      "50000/50000 [==============================] - 3s 63us/step - loss: 0.8331 - acc: 0.7263 - val_loss: 1.4856 - val_acc: 0.4998\n",
      "Epoch 32/50\n",
      "50000/50000 [==============================] - 3s 61us/step - loss: 0.8140 - acc: 0.7350 - val_loss: 1.4985 - val_acc: 0.4983\n",
      "Epoch 33/50\n",
      "50000/50000 [==============================] - 3s 64us/step - loss: 0.7951 - acc: 0.7427 - val_loss: 1.5035 - val_acc: 0.4924\n",
      "Epoch 34/50\n",
      "50000/50000 [==============================] - 4s 77us/step - loss: 0.7749 - acc: 0.7495 - val_loss: 1.5010 - val_acc: 0.5042\n",
      "Epoch 35/50\n",
      "50000/50000 [==============================] - 4s 75us/step - loss: 0.7552 - acc: 0.7581 - val_loss: 1.5171 - val_acc: 0.4951\n",
      "Epoch 36/50\n",
      "50000/50000 [==============================] - 3s 68us/step - loss: 0.7341 - acc: 0.7681 - val_loss: 1.5089 - val_acc: 0.5005\n",
      "Epoch 37/50\n",
      "50000/50000 [==============================] - 3s 64us/step - loss: 0.7166 - acc: 0.7748 - val_loss: 1.5238 - val_acc: 0.5028\n",
      "Epoch 38/50\n",
      "50000/50000 [==============================] - 3s 61us/step - loss: 0.6983 - acc: 0.7812 - val_loss: 1.5355 - val_acc: 0.4938\n",
      "Epoch 39/50\n",
      "50000/50000 [==============================] - 3s 65us/step - loss: 0.6825 - acc: 0.7874 - val_loss: 1.5479 - val_acc: 0.4942\n",
      "Epoch 40/50\n",
      "50000/50000 [==============================] - 3s 62us/step - loss: 0.6626 - acc: 0.7955 - val_loss: 1.5600 - val_acc: 0.4982\n",
      "Epoch 41/50\n",
      "50000/50000 [==============================] - 3s 64us/step - loss: 0.6455 - acc: 0.8019 - val_loss: 1.5676 - val_acc: 0.4984\n",
      "Epoch 42/50\n",
      "50000/50000 [==============================] - 4s 79us/step - loss: 0.6273 - acc: 0.8107 - val_loss: 1.5905 - val_acc: 0.4933\n",
      "Epoch 43/50\n",
      "50000/50000 [==============================] - 4s 89us/step - loss: 0.6101 - acc: 0.8164 - val_loss: 1.6038 - val_acc: 0.4875\n",
      "Epoch 44/50\n",
      "50000/50000 [==============================] - 4s 73us/step - loss: 0.5906 - acc: 0.8254 - val_loss: 1.6023 - val_acc: 0.4953\n",
      "Epoch 45/50\n",
      "50000/50000 [==============================] - 3s 70us/step - loss: 0.5743 - acc: 0.8309 - val_loss: 1.6124 - val_acc: 0.4983\n",
      "Epoch 46/50\n",
      "50000/50000 [==============================] - 3s 67us/step - loss: 0.5587 - acc: 0.8359 - val_loss: 1.6279 - val_acc: 0.4966\n",
      "Epoch 47/50\n",
      "50000/50000 [==============================] - 3s 70us/step - loss: 0.5406 - acc: 0.8445 - val_loss: 1.6567 - val_acc: 0.4925\n",
      "Epoch 48/50\n",
      "50000/50000 [==============================] - 4s 89us/step - loss: 0.5263 - acc: 0.8489 - val_loss: 1.6461 - val_acc: 0.4918\n",
      "Epoch 49/50\n",
      "50000/50000 [==============================] - 4s 79us/step - loss: 0.5101 - acc: 0.8565 - val_loss: 1.6659 - val_acc: 0.4936\n"
     ]
    },
    {
     "name": "stdout",
     "output_type": "stream",
     "text": [
      "Epoch 50/50\n",
      "50000/50000 [==============================] - 3s 66us/step - loss: 0.4926 - acc: 0.8650 - val_loss: 1.6700 - val_acc: 0.4940\n",
      "10000/10000 [==============================] - 1s 97us/step\n"
     ]
    }
   ],
   "source": [
    "model = build_mlp(input_shape=x_train.shape[1:])\n",
    "model.summary()\n",
    "optimizer = keras.optimizers.SGD(lr=LEARNING_RATE, nesterov=True, momentum=MOMENTUM)\n",
    "model.compile(loss=\"categorical_crossentropy\", metrics=[\"accuracy\"], optimizer=optimizer)\n",
    "\n",
    "model.fit(x_train, y_train, \n",
    "          epochs=EPOCHS, \n",
    "          batch_size=BATCH_SIZE, \n",
    "          validation_data=(x_test, y_test), \n",
    "          shuffle=True,\n",
    "          callbacks=[model_ckpt]\n",
    "         )\n",
    "\n",
    "# Collect results\n",
    "train_loss = model.history.history[\"loss\"]\n",
    "valid_loss = model.history.history[\"val_loss\"]\n",
    "train_acc = model.history.history[\"acc\"]\n",
    "valid_acc = model.history.history[\"val_acc\"]\n",
    "\n",
    "# Load back\n",
    "model.load_weights(\"./tmp.h5\")\n",
    "loss_loadback, acc_loadback = model.evaluate(x_test, y_test)"
   ]
  },
  {
   "cell_type": "code",
   "execution_count": 28,
   "metadata": {},
   "outputs": [
    {
     "data": {
      "image/png": "[encoded data removed]",
      "text/plain": [
       "<Figure size 432x288 with 1 Axes>"
      ]
     },
     "metadata": {},
     "output_type": "display_data"
    },
    {
     "data": {
      "image/png": "[encoded data removed]",
      "text/plain": [
       "<Figure size 432x288 with 1 Axes>"
      ]
     },
     "metadata": {},
     "output_type": "display_data"
    }
   ],
   "source": [
    "import matplotlib.pyplot as plt\n",
    "%matplotlib inline\n",
    "\n",
    "plt.plot(range(len(train_loss)), train_loss, label=\"train loss\")\n",
    "plt.plot(range(len(valid_loss)), valid_loss, label=\"valid loss\")\n",
    "plt.hlines(y=loss_loadback, xmin=0, xmax=len(train_loss), colors='r', linestyles='--')\n",
    "plt.legend()\n",
    "plt.title(\"Loss\")\n",
    "plt.show()\n",
    "\n",
    "plt.plot(range(len(train_acc)), train_acc, label=\"train accuracy\")\n",
    "plt.plot(range(len(valid_acc)), valid_acc, label=\"valid accuracy\")\n",
    "plt.hlines(y=acc_loadback, xmin=0, xmax=len(train_loss), colors='r', linestyles='--')\n",
    "plt.legend()\n",
    "plt.title(\"Accuracy\")\n",
    "plt.show()"
   ]
  }
 ],
 "metadata": {
  "kernelspec": {
   "display_name": "Python 3",
   "language": "python",
   "name": "python3"
  },
  "language_info": {
   "codemirror_mode": {
    "name": "ipython",
    "version": 3
   },
   "file_extension": ".py",
   "mimetype": "text/x-python",
   "name": "python",
   "nbconvert_exporter": "python",
   "pygments_lexer": "ipython3",
   "version": "3.6.4"
  },
  "varInspector": {
   "cols": {
    "lenName": 16,
    "lenType": 16,
    "lenVar": 40
   },
   "kernels_config": {
    "python": {
     "delete_cmd_postfix": "",
     "delete_cmd_prefix": "del ",
     "library": "var_list.py",
     "varRefreshCmd": "print(var_dic_list())"
    },
    "r": {
     "delete_cmd_postfix": ") ",
     "delete_cmd_prefix": "rm(",
     "library": "var_list.r",
     "varRefreshCmd": "cat(var_dic_list()) "
    }
   },
   "types_to_exclude": [
    "module",
    "function",
    "builtin_function_or_method",
    "instance",
    "_Feature"
   ],
   "window_display": false
  }
 },
 "nbformat": 4,
 "nbformat_minor": 2
}
